{
 "metadata": {
  "language_info": {
   "codemirror_mode": {
    "name": "ipython",
    "version": 3
   },
   "file_extension": ".py",
   "mimetype": "text/x-python",
   "name": "python",
   "nbconvert_exporter": "python",
   "pygments_lexer": "ipython3",
   "version": "3.8.6-final"
  },
  "orig_nbformat": 2,
  "kernelspec": {
   "name": "python3",
   "display_name": "Python 3.8.6 64-bit ('data': conda)",
   "metadata": {
    "interpreter": {
     "hash": "2bdec0d84ddbe38cdac198f8d53576ff6ec339cc8de48e4d04d251f27d4a5633"
    }
   }
  }
 },
 "nbformat": 4,
 "nbformat_minor": 2,
 "cells": [
  {
   "cell_type": "code",
   "execution_count": 1,
   "metadata": {},
   "outputs": [],
   "source": [
    "import numpy as np\n",
    "import pandas as pd\n",
    "from scipy.special import binom"
   ]
  },
  {
   "cell_type": "code",
   "execution_count": 2,
   "metadata": {},
   "outputs": [],
   "source": [
    "import scipy.stats as stats"
   ]
  },
  {
   "cell_type": "code",
   "execution_count": 3,
   "metadata": {},
   "outputs": [],
   "source": [
    "import matplotlib.pyplot as plt\n",
    "import plotly.express as px\n",
    "import plotly.graph_objects as go"
   ]
  },
  {
   "source": [
    "Generation of the binomial mixture model data."
   ],
   "cell_type": "markdown",
   "metadata": {}
  },
  {
   "cell_type": "code",
   "execution_count": 4,
   "metadata": {},
   "outputs": [],
   "source": [
    "np.random.seed(42)\n",
    "n_estimation = 100\n",
    "n_components = 5\n",
    "p_values = np.random.rand(n_components)\n",
    "n_values = np.random.randint(10,50, size=n_components)\n",
    "true_labels = np.repeat(np.arange(n_components), n_values)\n",
    "S = np.concatenate([np.random.binomial(n_estimation, p, size=n) for p, n in zip(p_values, n_values)])"
   ]
  },
  {
   "cell_type": "code",
   "execution_count": 5,
   "metadata": {},
   "outputs": [
    {
     "output_type": "execute_result",
     "data": {
      "text/plain": [
       "<matplotlib.collections.LineCollection at 0x19a42c08cd0>"
      ]
     },
     "metadata": {},
     "execution_count": 5
    },
    {
     "output_type": "display_data",
     "data": {
      "text/plain": "<Figure size 432x288 with 1 Axes>",
      "image/svg+xml": "<?xml version=\"1.0\" encoding=\"utf-8\" standalone=\"no\"?>\r\n<!DOCTYPE svg PUBLIC \"-//W3C//DTD SVG 1.1//EN\"\r\n  \"http://www.w3.org/Graphics/SVG/1.1/DTD/svg11.dtd\">\r\n<!-- Created with matplotlib (https://matplotlib.org/) -->\r\n<svg height=\"247.695677pt\" version=\"1.1\" viewBox=\"0 0 373.911414 247.695677\" width=\"373.911414pt\" xmlns=\"http://www.w3.org/2000/svg\" xmlns:xlink=\"http://www.w3.org/1999/xlink\">\r\n <defs>\r\n  <style type=\"text/css\">\r\n*{stroke-linecap:butt;stroke-linejoin:round;}\r\n  </style>\r\n </defs>\r\n <g id=\"figure_1\">\r\n  <g id=\"patch_1\">\r\n   <path d=\"M 0 247.695677 \r\nL 373.911414 247.695677 \r\nL 373.911414 0 \r\nL 0 0 \r\nz\r\n\" style=\"fill:none;\"/>\r\n  </g>\r\n  <g id=\"axes_1\">\r\n   <g id=\"patch_2\">\r\n    <path d=\"M 31.911414 224.64 \r\nL 366.711414 224.64 \r\nL 366.711414 7.2 \r\nL 31.911414 7.2 \r\nz\r\n\" style=\"fill:#ffffff;\"/>\r\n   </g>\r\n   <g id=\"patch_3\">\r\n    <path clip-path=\"url(#p6d23fc321f)\" d=\"M 47.129596 224.64 \r\nL 57.275051 224.64 \r\nL 57.275051 205.814026 \r\nL 47.129596 205.814026 \r\nz\r\n\" style=\"fill:#1f77b4;\"/>\r\n   </g>\r\n   <g id=\"patch_4\">\r\n    <path clip-path=\"url(#p6d23fc321f)\" d=\"M 57.275051 224.64 \r\nL 67.420505 224.64 \r\nL 67.420505 177.575065 \r\nL 57.275051 177.575065 \r\nz\r\n\" style=\"fill:#1f77b4;\"/>\r\n   </g>\r\n   <g id=\"patch_5\">\r\n    <path clip-path=\"url(#p6d23fc321f)\" d=\"M 67.420505 224.64 \r\nL 77.56596 224.64 \r\nL 77.56596 92.858182 \r\nL 67.420505 92.858182 \r\nz\r\n\" style=\"fill:#1f77b4;\"/>\r\n   </g>\r\n   <g id=\"patch_6\">\r\n    <path clip-path=\"url(#p6d23fc321f)\" d=\"M 77.56596 224.64 \r\nL 87.711414 224.64 \r\nL 87.711414 168.162078 \r\nL 77.56596 168.162078 \r\nz\r\n\" style=\"fill:#1f77b4;\"/>\r\n   </g>\r\n   <g id=\"patch_7\">\r\n    <path clip-path=\"url(#p6d23fc321f)\" d=\"M 87.711414 224.64 \r\nL 97.856869 224.64 \r\nL 97.856869 205.814026 \r\nL 87.711414 205.814026 \r\nz\r\n\" style=\"fill:#1f77b4;\"/>\r\n   </g>\r\n   <g id=\"patch_8\">\r\n    <path clip-path=\"url(#p6d23fc321f)\" d=\"M 97.856869 224.64 \r\nL 108.002323 224.64 \r\nL 108.002323 177.575065 \r\nL 97.856869 177.575065 \r\nz\r\n\" style=\"fill:#1f77b4;\"/>\r\n   </g>\r\n   <g id=\"patch_9\">\r\n    <path clip-path=\"url(#p6d23fc321f)\" d=\"M 108.002323 224.64 \r\nL 118.147778 224.64 \r\nL 118.147778 224.64 \r\nL 108.002323 224.64 \r\nz\r\n\" style=\"fill:#1f77b4;\"/>\r\n   </g>\r\n   <g id=\"patch_10\">\r\n    <path clip-path=\"url(#p6d23fc321f)\" d=\"M 118.147778 224.64 \r\nL 128.293232 224.64 \r\nL 128.293232 168.162078 \r\nL 118.147778 168.162078 \r\nz\r\n\" style=\"fill:#1f77b4;\"/>\r\n   </g>\r\n   <g id=\"patch_11\">\r\n    <path clip-path=\"url(#p6d23fc321f)\" d=\"M 128.293232 224.64 \r\nL 138.438687 224.64 \r\nL 138.438687 224.64 \r\nL 128.293232 224.64 \r\nz\r\n\" style=\"fill:#1f77b4;\"/>\r\n   </g>\r\n   <g id=\"patch_12\">\r\n    <path clip-path=\"url(#p6d23fc321f)\" d=\"M 138.438687 224.64 \r\nL 148.584142 224.64 \r\nL 148.584142 196.401039 \r\nL 138.438687 196.401039 \r\nz\r\n\" style=\"fill:#1f77b4;\"/>\r\n   </g>\r\n   <g id=\"patch_13\">\r\n    <path clip-path=\"url(#p6d23fc321f)\" d=\"M 148.584142 224.64 \r\nL 158.729596 224.64 \r\nL 158.729596 168.162078 \r\nL 148.584142 168.162078 \r\nz\r\n\" style=\"fill:#1f77b4;\"/>\r\n   </g>\r\n   <g id=\"patch_14\">\r\n    <path clip-path=\"url(#p6d23fc321f)\" d=\"M 158.729596 224.64 \r\nL 168.875051 224.64 \r\nL 168.875051 168.162078 \r\nL 158.729596 168.162078 \r\nz\r\n\" style=\"fill:#1f77b4;\"/>\r\n   </g>\r\n   <g id=\"patch_15\">\r\n    <path clip-path=\"url(#p6d23fc321f)\" d=\"M 168.875051 224.64 \r\nL 179.020505 224.64 \r\nL 179.020505 168.162078 \r\nL 168.875051 168.162078 \r\nz\r\n\" style=\"fill:#1f77b4;\"/>\r\n   </g>\r\n   <g id=\"patch_16\">\r\n    <path clip-path=\"url(#p6d23fc321f)\" d=\"M 179.020505 224.64 \r\nL 189.16596 224.64 \r\nL 189.16596 215.227013 \r\nL 179.020505 215.227013 \r\nz\r\n\" style=\"fill:#1f77b4;\"/>\r\n   </g>\r\n   <g id=\"patch_17\">\r\n    <path clip-path=\"url(#p6d23fc321f)\" d=\"M 189.16596 224.64 \r\nL 199.311414 224.64 \r\nL 199.311414 196.401039 \r\nL 189.16596 196.401039 \r\nz\r\n\" style=\"fill:#1f77b4;\"/>\r\n   </g>\r\n   <g id=\"patch_18\">\r\n    <path clip-path=\"url(#p6d23fc321f)\" d=\"M 199.311414 224.64 \r\nL 209.456869 224.64 \r\nL 209.456869 196.401039 \r\nL 199.311414 196.401039 \r\nz\r\n\" style=\"fill:#1f77b4;\"/>\r\n   </g>\r\n   <g id=\"patch_19\">\r\n    <path clip-path=\"url(#p6d23fc321f)\" d=\"M 209.456869 224.64 \r\nL 219.602323 224.64 \r\nL 219.602323 196.401039 \r\nL 209.456869 196.401039 \r\nz\r\n\" style=\"fill:#1f77b4;\"/>\r\n   </g>\r\n   <g id=\"patch_20\">\r\n    <path clip-path=\"url(#p6d23fc321f)\" d=\"M 219.602323 224.64 \r\nL 229.747778 224.64 \r\nL 229.747778 186.988052 \r\nL 219.602323 186.988052 \r\nz\r\n\" style=\"fill:#1f77b4;\"/>\r\n   </g>\r\n   <g id=\"patch_21\">\r\n    <path clip-path=\"url(#p6d23fc321f)\" d=\"M 229.747778 224.64 \r\nL 239.893232 224.64 \r\nL 239.893232 205.814026 \r\nL 229.747778 205.814026 \r\nz\r\n\" style=\"fill:#1f77b4;\"/>\r\n   </g>\r\n   <g id=\"patch_22\">\r\n    <path clip-path=\"url(#p6d23fc321f)\" d=\"M 239.893232 224.64 \r\nL 250.038687 224.64 \r\nL 250.038687 186.988052 \r\nL 239.893232 186.988052 \r\nz\r\n\" style=\"fill:#1f77b4;\"/>\r\n   </g>\r\n   <g id=\"patch_23\">\r\n    <path clip-path=\"url(#p6d23fc321f)\" d=\"M 250.038687 224.64 \r\nL 260.184142 224.64 \r\nL 260.184142 215.227013 \r\nL 250.038687 215.227013 \r\nz\r\n\" style=\"fill:#1f77b4;\"/>\r\n   </g>\r\n   <g id=\"patch_24\">\r\n    <path clip-path=\"url(#p6d23fc321f)\" d=\"M 260.184142 224.64 \r\nL 270.329596 224.64 \r\nL 270.329596 168.162078 \r\nL 260.184142 168.162078 \r\nz\r\n\" style=\"fill:#1f77b4;\"/>\r\n   </g>\r\n   <g id=\"patch_25\">\r\n    <path clip-path=\"url(#p6d23fc321f)\" d=\"M 270.329596 224.64 \r\nL 280.475051 224.64 \r\nL 280.475051 149.336104 \r\nL 270.329596 149.336104 \r\nz\r\n\" style=\"fill:#1f77b4;\"/>\r\n   </g>\r\n   <g id=\"patch_26\">\r\n    <path clip-path=\"url(#p6d23fc321f)\" d=\"M 280.475051 224.64 \r\nL 290.620505 224.64 \r\nL 290.620505 186.988052 \r\nL 280.475051 186.988052 \r\nz\r\n\" style=\"fill:#1f77b4;\"/>\r\n   </g>\r\n   <g id=\"patch_27\">\r\n    <path clip-path=\"url(#p6d23fc321f)\" d=\"M 290.620505 224.64 \r\nL 300.76596 224.64 \r\nL 300.76596 224.64 \r\nL 290.620505 224.64 \r\nz\r\n\" style=\"fill:#1f77b4;\"/>\r\n   </g>\r\n   <g id=\"patch_28\">\r\n    <path clip-path=\"url(#p6d23fc321f)\" d=\"M 300.76596 224.64 \r\nL 310.911414 224.64 \r\nL 310.911414 224.64 \r\nL 300.76596 224.64 \r\nz\r\n\" style=\"fill:#1f77b4;\"/>\r\n   </g>\r\n   <g id=\"patch_29\">\r\n    <path clip-path=\"url(#p6d23fc321f)\" d=\"M 310.911414 224.64 \r\nL 321.056869 224.64 \r\nL 321.056869 215.227013 \r\nL 310.911414 215.227013 \r\nz\r\n\" style=\"fill:#1f77b4;\"/>\r\n   </g>\r\n   <g id=\"patch_30\">\r\n    <path clip-path=\"url(#p6d23fc321f)\" d=\"M 321.056869 224.64 \r\nL 331.202323 224.64 \r\nL 331.202323 205.814026 \r\nL 321.056869 205.814026 \r\nz\r\n\" style=\"fill:#1f77b4;\"/>\r\n   </g>\r\n   <g id=\"patch_31\">\r\n    <path clip-path=\"url(#p6d23fc321f)\" d=\"M 331.202323 224.64 \r\nL 341.347778 224.64 \r\nL 341.347778 149.336104 \r\nL 331.202323 149.336104 \r\nz\r\n\" style=\"fill:#1f77b4;\"/>\r\n   </g>\r\n   <g id=\"patch_32\">\r\n    <path clip-path=\"url(#p6d23fc321f)\" d=\"M 341.347778 224.64 \r\nL 351.493232 224.64 \r\nL 351.493232 17.554286 \r\nL 341.347778 17.554286 \r\nz\r\n\" style=\"fill:#1f77b4;\"/>\r\n   </g>\r\n   <g id=\"matplotlib.axis_1\">\r\n    <g id=\"xtick_1\">\r\n     <g id=\"line2d_1\">\r\n      <defs>\r\n       <path d=\"M 0 0 \r\nL 0 3.5 \r\n\" id=\"m066bdd840c\" style=\"stroke:#000000;stroke-width:0.8;\"/>\r\n      </defs>\r\n      <g>\r\n       <use style=\"stroke:#000000;stroke-width:0.8;\" x=\"87.711414\" xlink:href=\"#m066bdd840c\" y=\"224.64\"/>\r\n      </g>\r\n     </g>\r\n     <g id=\"text_1\">\r\n      <!-- $\\mathdefault{20}$ -->\r\n      <defs>\r\n       <path d=\"M 41.703125 15.46875 \r\nL 39.90625 15.46875 \r\nC 38.90625 8.390625 38.09375 7.1875 37.703125 6.59375 \r\nC 37.203125 5.796875 30 5.796875 28.59375 5.796875 \r\nL 9.40625 5.796875 \r\nC 13 9.6875 20 16.765625 28.5 24.9375 \r\nC 34.59375 30.71875 41.703125 37.5 41.703125 47.390625 \r\nC 41.703125 59.1875 32.296875 66 21.796875 66 \r\nC 10.796875 66 4.09375 56.296875 4.09375 47.296875 \r\nC 4.09375 43.390625 7 42.890625 8.203125 42.890625 \r\nC 9.203125 42.890625 12.203125 43.484375 12.203125 46.984375 \r\nC 12.203125 50.09375 9.59375 51 8.203125 51 \r\nC 7.59375 51 7 50.890625 6.59375 50.6875 \r\nC 8.5 59.1875 14.296875 63.390625 20.40625 63.390625 \r\nC 29.09375 63.390625 34.796875 56.5 34.796875 47.390625 \r\nC 34.796875 38.703125 29.703125 31.21875 24 24.734375 \r\nL 4.09375 2.296875 \r\nL 4.09375 0 \r\nL 39.296875 0 \r\nz\r\n\" id=\"CMR17-50\"/>\r\n       <path d=\"M 42 31.84375 \r\nC 42 37.96875 41.90625 48.421875 37.703125 56.453125 \r\nC 34 63.484375 28.09375 66 22.90625 66 \r\nC 18.09375 66 12 63.78125 8.203125 56.5625 \r\nC 4.203125 49.015625 3.796875 39.671875 3.796875 31.84375 \r\nC 3.796875 26.109375 3.90625 17.375 7 9.734375 \r\nC 11.296875 -0.609375 19 -2 22.90625 -2 \r\nC 27.5 -2 34.5 -0.109375 38.59375 9.4375 \r\nC 41.59375 16.375 42 24.5 42 31.84375 \r\nz\r\nM 22.90625 -0.40625 \r\nC 16.5 -0.40625 12.703125 5.125 11.296875 12.75 \r\nC 10.203125 18.6875 10.203125 27.328125 10.203125 32.953125 \r\nC 10.203125 40.6875 10.203125 47.109375 11.5 53.234375 \r\nC 13.40625 61.78125 19 64.390625 22.90625 64.390625 \r\nC 27 64.390625 32.296875 61.671875 34.203125 53.4375 \r\nC 35.5 47.71875 35.59375 40.984375 35.59375 32.953125 \r\nC 35.59375 26.421875 35.59375 18.375 34.40625 12.453125 \r\nC 32.296875 1.5 26.40625 -0.40625 22.90625 -0.40625 \r\nz\r\n\" id=\"CMR17-48\"/>\r\n      </defs>\r\n      <g transform=\"translate(82.730079 238.558498)scale(0.1 -0.1)\">\r\n       <use transform=\"scale(0.996264)\" xlink:href=\"#CMR17-50\"/>\r\n       <use transform=\"translate(45.690477 0)scale(0.996264)\" xlink:href=\"#CMR17-48\"/>\r\n      </g>\r\n     </g>\r\n    </g>\r\n    <g id=\"xtick_2\">\r\n     <g id=\"line2d_2\">\r\n      <g>\r\n       <use style=\"stroke:#000000;stroke-width:0.8;\" x=\"155.347778\" xlink:href=\"#m066bdd840c\" y=\"224.64\"/>\r\n      </g>\r\n     </g>\r\n     <g id=\"text_2\">\r\n      <!-- $\\mathdefault{40}$ -->\r\n      <defs>\r\n       <path d=\"M 33.59375 64.796875 \r\nC 33.59375 66.890625 33.5 67 31.703125 67 \r\nL 2 19.59375 \r\nL 2 17 \r\nL 27.796875 17 \r\nL 27.796875 7.1875 \r\nC 27.796875 3.59375 27.59375 2.59375 20.59375 2.59375 \r\nL 18.703125 2.59375 \r\nL 18.703125 0 \r\nC 21.90625 0.1875 27.296875 0.1875 30.703125 0.1875 \r\nC 34.09375 0.1875 39.5 0.1875 42.703125 0 \r\nL 42.703125 2.59375 \r\nL 40.796875 2.59375 \r\nC 33.796875 2.59375 33.59375 3.59375 33.59375 7.1875 \r\nL 33.59375 17 \r\nL 43.796875 17 \r\nL 43.796875 19.59375 \r\nL 33.59375 19.59375 \r\nz\r\nM 28.09375 58.171875 \r\nL 28.09375 19.59375 \r\nL 4 19.59375 \r\nz\r\n\" id=\"CMR17-52\"/>\r\n      </defs>\r\n      <g transform=\"translate(150.366443 238.558498)scale(0.1 -0.1)\">\r\n       <use transform=\"scale(0.996264)\" xlink:href=\"#CMR17-52\"/>\r\n       <use transform=\"translate(45.690477 0)scale(0.996264)\" xlink:href=\"#CMR17-48\"/>\r\n      </g>\r\n     </g>\r\n    </g>\r\n    <g id=\"xtick_3\">\r\n     <g id=\"line2d_3\">\r\n      <g>\r\n       <use style=\"stroke:#000000;stroke-width:0.8;\" x=\"222.984142\" xlink:href=\"#m066bdd840c\" y=\"224.64\"/>\r\n      </g>\r\n     </g>\r\n     <g id=\"text_3\">\r\n      <!-- $\\mathdefault{60}$ -->\r\n      <defs>\r\n       <path d=\"M 10.59375 34.34375 \r\nC 10.59375 58 21.796875 63.6875 28.296875 63.6875 \r\nC 30.40625 63.6875 35.5 63.265625 37.5 59.09375 \r\nC 35.90625 59.09375 32.90625 59.09375 32.90625 55.59375 \r\nC 32.90625 52.890625 35.09375 52 36.5 52 \r\nC 37.40625 52 40.09375 52.390625 40.09375 55.796875 \r\nC 40.09375 62.296875 35.09375 66 28.203125 66 \r\nC 16.296875 66 3.796875 53.296875 3.796875 31.421875 \r\nC 3.796875 4.015625 15.09375 -2 23.09375 -2 \r\nC 32.796875 -2 42 6.734375 42 20.234375 \r\nC 42 32.828125 33.90625 42 23.703125 42 \r\nC 17.59375 42 13.09375 37.96875 10.59375 30.921875 \r\nz\r\nM 23.09375 0.390625 \r\nC 10.796875 0.390625 10.796875 18.9375 10.796875 22.65625 \r\nC 10.796875 29.90625 14.203125 40.390625 23.5 40.390625 \r\nC 25.203125 40.390625 30.09375 40.390625 33.40625 33.4375 \r\nC 35.203125 29.515625 35.203125 25.375 35.203125 20.34375 \r\nC 35.203125 14.90625 35.203125 10.875 33.09375 6.84375 \r\nC 30.90625 2.703125 27.703125 0.390625 23.09375 0.390625 \r\nz\r\n\" id=\"CMR17-54\"/>\r\n      </defs>\r\n      <g transform=\"translate(218.002806 238.558498)scale(0.1 -0.1)\">\r\n       <use transform=\"scale(0.996264)\" xlink:href=\"#CMR17-54\"/>\r\n       <use transform=\"translate(45.690477 0)scale(0.996264)\" xlink:href=\"#CMR17-48\"/>\r\n      </g>\r\n     </g>\r\n    </g>\r\n    <g id=\"xtick_4\">\r\n     <g id=\"line2d_4\">\r\n      <g>\r\n       <use style=\"stroke:#000000;stroke-width:0.8;\" x=\"290.620505\" xlink:href=\"#m066bdd840c\" y=\"224.64\"/>\r\n      </g>\r\n     </g>\r\n     <g id=\"text_4\">\r\n      <!-- $\\mathdefault{80}$ -->\r\n      <defs>\r\n       <path d=\"M 27.203125 35.765625 \r\nC 33.5 38.96875 39.90625 43.796875 39.90625 51.53125 \r\nC 39.90625 60.6875 31.09375 66 23 66 \r\nC 13.90625 66 5.90625 59.375 5.90625 50.234375 \r\nC 5.90625 47.71875 6.5 43.390625 10.40625 39.578125 \r\nC 11.40625 38.578125 15.59375 35.5625 18.296875 33.65625 \r\nC 13.796875 31.34375 3.296875 25.8125 3.296875 14.765625 \r\nC 3.296875 4.40625 13.09375 -2 22.796875 -2 \r\nC 33.5 -2 42.5 5.71875 42.5 15.96875 \r\nC 42.5 25.109375 36.40625 29.328125 32.40625 32.046875 \r\nz\r\nM 14.09375 44.609375 \r\nC 13.296875 45.109375 9.296875 48.21875 9.296875 52.9375 \r\nC 9.296875 59.078125 15.59375 63.6875 22.796875 63.6875 \r\nC 30.703125 63.6875 36.5 58.0625 36.5 51.53125 \r\nC 36.5 42.1875 26.09375 36.859375 25.59375 36.859375 \r\nC 25.5 36.859375 25.40625 36.859375 24.59375 37.46875 \r\nz\r\nM 32.5 24 \r\nC 34 22.90625 38.796875 19.578125 38.796875 13.453125 \r\nC 38.796875 6.015625 31.40625 0.390625 23 0.390625 \r\nC 13.90625 0.390625 7 6.921875 7 14.859375 \r\nC 7 22.796875 13.09375 29.4375 20 32.546875 \r\nz\r\n\" id=\"CMR17-56\"/>\r\n      </defs>\r\n      <g transform=\"translate(285.63917 238.558498)scale(0.1 -0.1)\">\r\n       <use transform=\"scale(0.996264)\" xlink:href=\"#CMR17-56\"/>\r\n       <use transform=\"translate(45.690477 0)scale(0.996264)\" xlink:href=\"#CMR17-48\"/>\r\n      </g>\r\n     </g>\r\n    </g>\r\n    <g id=\"xtick_5\">\r\n     <g id=\"line2d_5\">\r\n      <g>\r\n       <use style=\"stroke:#000000;stroke-width:0.8;\" x=\"358.256869\" xlink:href=\"#m066bdd840c\" y=\"224.64\"/>\r\n      </g>\r\n     </g>\r\n     <g id=\"text_5\">\r\n      <!-- $\\mathdefault{100}$ -->\r\n      <defs>\r\n       <path d=\"M 26.59375 63.796875 \r\nC 26.59375 65.890625 26.5 66 25.09375 66 \r\nC 21.203125 61.359375 15.296875 59.890625 9.703125 59.6875 \r\nC 9.40625 59.6875 8.90625 59.6875 8.796875 59.5 \r\nC 8.703125 59.296875 8.703125 59.09375 8.703125 57 \r\nC 11.796875 57 17 57.59375 21 59.984375 \r\nL 21 7.296875 \r\nC 21 3.796875 20.796875 2.59375 12.203125 2.59375 \r\nL 9.203125 2.59375 \r\nL 9.203125 0 \r\nC 14 0.09375 19 0.1875 23.796875 0.1875 \r\nC 28.59375 0.1875 33.59375 0.09375 38.40625 0 \r\nL 38.40625 2.59375 \r\nL 35.40625 2.59375 \r\nC 26.796875 2.59375 26.59375 3.6875 26.59375 7.296875 \r\nz\r\n\" id=\"CMR17-49\"/>\r\n      </defs>\r\n      <g transform=\"translate(350.784866 238.558498)scale(0.1 -0.1)\">\r\n       <use transform=\"scale(0.996264)\" xlink:href=\"#CMR17-49\"/>\r\n       <use transform=\"translate(45.690477 0)scale(0.996264)\" xlink:href=\"#CMR17-48\"/>\r\n       <use transform=\"translate(91.380954 0)scale(0.996264)\" xlink:href=\"#CMR17-48\"/>\r\n      </g>\r\n     </g>\r\n    </g>\r\n   </g>\r\n   <g id=\"matplotlib.axis_2\">\r\n    <g id=\"ytick_1\">\r\n     <g id=\"line2d_6\">\r\n      <defs>\r\n       <path d=\"M 0 0 \r\nL -3.5 0 \r\n\" id=\"m4d87d1d781\" style=\"stroke:#000000;stroke-width:0.8;\"/>\r\n      </defs>\r\n      <g>\r\n       <use style=\"stroke:#000000;stroke-width:0.8;\" x=\"31.911414\" xlink:href=\"#m4d87d1d781\" y=\"224.64\"/>\r\n      </g>\r\n     </g>\r\n     <g id=\"text_6\">\r\n      <!-- $\\mathdefault{0.00}$ -->\r\n      <defs>\r\n       <path d=\"M 18.40625 4.796875 \r\nC 18.40625 7.6875 16 9.6875 13.59375 9.6875 \r\nC 10.703125 9.6875 8.703125 7.296875 8.703125 4.890625 \r\nC 8.703125 2 11.09375 0 13.5 0 \r\nC 16.40625 0 18.40625 2.390625 18.40625 4.796875 \r\nz\r\n\" id=\"CMMI12-58\"/>\r\n      </defs>\r\n      <g transform=\"translate(7.2 228.099249)scale(0.1 -0.1)\">\r\n       <use transform=\"scale(0.996264)\" xlink:href=\"#CMR17-48\"/>\r\n       <use transform=\"translate(45.690477 0)scale(0.996264)\" xlink:href=\"#CMMI12-58\"/>\r\n       <use transform=\"translate(72.787654 0)scale(0.996264)\" xlink:href=\"#CMR17-48\"/>\r\n       <use transform=\"translate(118.478131 0)scale(0.996264)\" xlink:href=\"#CMR17-48\"/>\r\n      </g>\r\n     </g>\r\n    </g>\r\n    <g id=\"ytick_2\">\r\n     <g id=\"line2d_7\">\r\n      <g>\r\n       <use style=\"stroke:#000000;stroke-width:0.8;\" x=\"31.911414\" xlink:href=\"#m4d87d1d781\" y=\"187.082182\"/>\r\n      </g>\r\n     </g>\r\n     <g id=\"text_7\">\r\n      <!-- $\\mathdefault{0.01}$ -->\r\n      <g transform=\"translate(7.2 190.541431)scale(0.1 -0.1)\">\r\n       <use transform=\"scale(0.996264)\" xlink:href=\"#CMR17-48\"/>\r\n       <use transform=\"translate(45.690477 0)scale(0.996264)\" xlink:href=\"#CMMI12-58\"/>\r\n       <use transform=\"translate(72.787654 0)scale(0.996264)\" xlink:href=\"#CMR17-48\"/>\r\n       <use transform=\"translate(118.478131 0)scale(0.996264)\" xlink:href=\"#CMR17-49\"/>\r\n      </g>\r\n     </g>\r\n    </g>\r\n    <g id=\"ytick_3\">\r\n     <g id=\"line2d_8\">\r\n      <g>\r\n       <use style=\"stroke:#000000;stroke-width:0.8;\" x=\"31.911414\" xlink:href=\"#m4d87d1d781\" y=\"149.524364\"/>\r\n      </g>\r\n     </g>\r\n     <g id=\"text_8\">\r\n      <!-- $\\mathdefault{0.02}$ -->\r\n      <g transform=\"translate(7.2 152.983613)scale(0.1 -0.1)\">\r\n       <use transform=\"scale(0.996264)\" xlink:href=\"#CMR17-48\"/>\r\n       <use transform=\"translate(45.690477 0)scale(0.996264)\" xlink:href=\"#CMMI12-58\"/>\r\n       <use transform=\"translate(72.787654 0)scale(0.996264)\" xlink:href=\"#CMR17-48\"/>\r\n       <use transform=\"translate(118.478131 0)scale(0.996264)\" xlink:href=\"#CMR17-50\"/>\r\n      </g>\r\n     </g>\r\n    </g>\r\n    <g id=\"ytick_4\">\r\n     <g id=\"line2d_9\">\r\n      <g>\r\n       <use style=\"stroke:#000000;stroke-width:0.8;\" x=\"31.911414\" xlink:href=\"#m4d87d1d781\" y=\"111.966545\"/>\r\n      </g>\r\n     </g>\r\n     <g id=\"text_9\">\r\n      <!-- $\\mathdefault{0.03}$ -->\r\n      <defs>\r\n       <path d=\"M 22.09375 34 \r\nC 31 34 34.90625 26.140625 34.90625 17.09375 \r\nC 34.90625 5.03125 28.5 0.390625 22.703125 0.390625 \r\nC 17.40625 0.390625 8.796875 3.015625 6.09375 10.796875 \r\nC 6.59375 10.59375 7.09375 10.59375 7.59375 10.59375 \r\nC 10 10.59375 11.796875 12.1875 11.796875 14.796875 \r\nC 11.796875 17.6875 9.59375 19 7.59375 19 \r\nC 5.90625 19 3.296875 18.1875 3.296875 14.484375 \r\nC 3.296875 5.234375 12.296875 -2 22.90625 -2 \r\nC 34 -2 42.5 6.75 42.5 16.984375 \r\nC 42.5 26.84375 34.5 34 25 35.09375 \r\nC 32.59375 36.671875 39.90625 43.375 39.90625 52.390625 \r\nC 39.90625 60.25 32 66 23 66 \r\nC 13.90625 66 5.90625 60.34375 5.90625 52.296875 \r\nC 5.90625 48.796875 8.5 48.1875 9.796875 48.1875 \r\nC 11.90625 48.1875 13.703125 49.484375 13.703125 52.09375 \r\nC 13.703125 54.6875 11.90625 56 9.796875 56 \r\nC 9.40625 56 8.90625 56 8.5 55.796875 \r\nC 11.40625 62.484375 19.296875 63.6875 22.796875 63.6875 \r\nC 26.296875 63.6875 32.90625 61.96875 32.90625 52.296875 \r\nC 32.90625 49.484375 32.5 44.546875 29.09375 40.21875 \r\nC 26.09375 36.390625 22.703125 36.1875 19.40625 35.890625 \r\nC 18.90625 35.890625 16.59375 35.6875 16.203125 35.6875 \r\nC 15.5 35.59375 15.09375 35.5 15.09375 34.796875 \r\nC 15.09375 34.09375 15.203125 34 17.203125 34 \r\nz\r\n\" id=\"CMR17-51\"/>\r\n      </defs>\r\n      <g transform=\"translate(7.2 115.425795)scale(0.1 -0.1)\">\r\n       <use transform=\"scale(0.996264)\" xlink:href=\"#CMR17-48\"/>\r\n       <use transform=\"translate(45.690477 0)scale(0.996264)\" xlink:href=\"#CMMI12-58\"/>\r\n       <use transform=\"translate(72.787654 0)scale(0.996264)\" xlink:href=\"#CMR17-48\"/>\r\n       <use transform=\"translate(118.478131 0)scale(0.996264)\" xlink:href=\"#CMR17-51\"/>\r\n      </g>\r\n     </g>\r\n    </g>\r\n    <g id=\"ytick_5\">\r\n     <g id=\"line2d_10\">\r\n      <g>\r\n       <use style=\"stroke:#000000;stroke-width:0.8;\" x=\"31.911414\" xlink:href=\"#m4d87d1d781\" y=\"74.408727\"/>\r\n      </g>\r\n     </g>\r\n     <g id=\"text_10\">\r\n      <!-- $\\mathdefault{0.04}$ -->\r\n      <g transform=\"translate(7.2 77.867976)scale(0.1 -0.1)\">\r\n       <use transform=\"scale(0.996264)\" xlink:href=\"#CMR17-48\"/>\r\n       <use transform=\"translate(45.690477 0)scale(0.996264)\" xlink:href=\"#CMMI12-58\"/>\r\n       <use transform=\"translate(72.787654 0)scale(0.996264)\" xlink:href=\"#CMR17-48\"/>\r\n       <use transform=\"translate(118.478131 0)scale(0.996264)\" xlink:href=\"#CMR17-52\"/>\r\n      </g>\r\n     </g>\r\n    </g>\r\n    <g id=\"ytick_6\">\r\n     <g id=\"line2d_11\">\r\n      <g>\r\n       <use style=\"stroke:#000000;stroke-width:0.8;\" x=\"31.911414\" xlink:href=\"#m4d87d1d781\" y=\"36.850909\"/>\r\n      </g>\r\n     </g>\r\n     <g id=\"text_11\">\r\n      <!-- $\\mathdefault{0.05}$ -->\r\n      <defs>\r\n       <path d=\"M 11.40625 58.59375 \r\nC 12.40625 58.1875 16.5 56.890625 20.703125 56.890625 \r\nC 30 56.890625 35.09375 61.890625 38 64.6875 \r\nC 38 65.484375 38 66 37.40625 66 \r\nC 37.296875 66 37.09375 66 36.296875 65.59375 \r\nC 32.796875 64.09375 28.703125 63 23.703125 63 \r\nC 20.703125 63 16.203125 63.359375 11.296875 65.484375 \r\nC 10.203125 66 10 66 9.90625 66 \r\nC 9.40625 66 9.296875 65.890625 9.296875 63.90625 \r\nL 9.296875 34.859375 \r\nC 9.296875 33.015625 9.296875 32.5 10.296875 32.5 \r\nC 10.796875 32.5 11 32.703125 11.5 33.421875 \r\nC 14.703125 38.046875 19.09375 40 24.09375 40 \r\nC 27.59375 40 35.09375 37.734375 35.09375 20.203125 \r\nC 35.09375 16.984375 35.09375 11.1875 32.09375 6.59375 \r\nC 29.59375 2.484375 25.703125 0.390625 21.40625 0.390625 \r\nC 14.796875 0.390625 8.09375 4.984375 6.296875 12.6875 \r\nC 6.703125 12.59375 7.5 12.390625 7.90625 12.390625 \r\nC 9.203125 12.390625 11.703125 13.09375 11.703125 16.1875 \r\nC 11.703125 18.890625 9.796875 20 7.90625 20 \r\nC 5.59375 20 4.09375 18.59375 4.09375 15.796875 \r\nC 4.09375 7.09375 11 -2 21.59375 -2 \r\nC 31.90625 -2 41.703125 6.890625 41.703125 19.796875 \r\nC 41.703125 32.09375 33.90625 41.59375 24.203125 41.59375 \r\nC 19.09375 41.59375 14.796875 39.6875 11.40625 36 \r\nz\r\n\" id=\"CMR17-53\"/>\r\n      </defs>\r\n      <g transform=\"translate(7.2 40.310158)scale(0.1 -0.1)\">\r\n       <use transform=\"scale(0.996264)\" xlink:href=\"#CMR17-48\"/>\r\n       <use transform=\"translate(45.690477 0)scale(0.996264)\" xlink:href=\"#CMMI12-58\"/>\r\n       <use transform=\"translate(72.787654 0)scale(0.996264)\" xlink:href=\"#CMR17-48\"/>\r\n       <use transform=\"translate(118.478131 0)scale(0.996264)\" xlink:href=\"#CMR17-53\"/>\r\n      </g>\r\n     </g>\r\n    </g>\r\n   </g>\r\n   <g id=\"LineCollection_1\">\r\n    <path clip-path=\"url(#p6d23fc321f)\" d=\"M 146.737709 224.64 \r\nL 146.737709 111.966545 \r\n\" style=\"fill:none;stroke:#000000;stroke-width:1.5;\"/>\r\n    <path clip-path=\"url(#p6d23fc321f)\" d=\"M 341.589343 224.64 \r\nL 341.589343 111.966545 \r\n\" style=\"fill:none;stroke:#000000;stroke-width:1.5;\"/>\r\n    <path clip-path=\"url(#p6d23fc321f)\" d=\"M 267.622093 224.64 \r\nL 267.622093 111.966545 \r\n\" style=\"fill:none;stroke:#000000;stroke-width:1.5;\"/>\r\n    <path clip-path=\"url(#p6d23fc321f)\" d=\"M 222.530465 224.64 \r\nL 222.530465 111.966545 \r\n\" style=\"fill:none;stroke:#000000;stroke-width:1.5;\"/>\r\n    <path clip-path=\"url(#p6d23fc321f)\" d=\"M 72.837718 224.64 \r\nL 72.837718 111.966545 \r\n\" style=\"fill:none;stroke:#000000;stroke-width:1.5;\"/>\r\n   </g>\r\n   <g id=\"patch_33\">\r\n    <path d=\"M 31.911414 224.64 \r\nL 31.911414 7.2 \r\n\" style=\"fill:none;stroke:#000000;stroke-linecap:square;stroke-linejoin:miter;stroke-width:0.8;\"/>\r\n   </g>\r\n   <g id=\"patch_34\">\r\n    <path d=\"M 366.711414 224.64 \r\nL 366.711414 7.2 \r\n\" style=\"fill:none;stroke:#000000;stroke-linecap:square;stroke-linejoin:miter;stroke-width:0.8;\"/>\r\n   </g>\r\n   <g id=\"patch_35\">\r\n    <path d=\"M 31.911414 224.64 \r\nL 366.711414 224.64 \r\n\" style=\"fill:none;stroke:#000000;stroke-linecap:square;stroke-linejoin:miter;stroke-width:0.8;\"/>\r\n   </g>\r\n   <g id=\"patch_36\">\r\n    <path d=\"M 31.911414 7.2 \r\nL 366.711414 7.2 \r\n\" style=\"fill:none;stroke:#000000;stroke-linecap:square;stroke-linejoin:miter;stroke-width:0.8;\"/>\r\n   </g>\r\n  </g>\r\n </g>\r\n <defs>\r\n  <clipPath id=\"p6d23fc321f\">\r\n   <rect height=\"217.44\" width=\"334.8\" x=\"31.911414\" y=\"7.2\"/>\r\n  </clipPath>\r\n </defs>\r\n</svg>\r\n",
      "image/png": "[encoded data removed]"
     },
     "metadata": {
      "needs_background": "light"
     }
    }
   ],
   "source": [
    "plt.hist(S, bins=30, density=True)\n",
    "plt.vlines(n_estimation*p_values, ymin=0, ymax=0.03)"
   ]
  },
  {
   "cell_type": "code",
   "execution_count": 6,
   "metadata": {},
   "outputs": [],
   "source": [
    "def plot_binomial_mixture(p_values, proportions=None, S=None):\n",
    "    if proportions is None:\n",
    "        proportions = np.ones_like(p_values)\n",
    "    fig = go.Figure()\n",
    "    for p, prop in zip(p_values, proportions):\n",
    "        x = np.arange(stats.binom.ppf(0.01, n_estimation, p), stats.binom.ppf(0.99, n_estimation, p))\n",
    "        fig.add_scatter(x=x, y=prop*stats.binom.pmf(x,n_estimation, p), mode=\"lines\", name=f\"p={p:.3f}\")\n",
    "    if S is not None:\n",
    "        fig.add_histogram(x=S, nbinsx=30, histnorm=\"probability density\")\n",
    "    fig.show()"
   ]
  },
  {
   "cell_type": "code",
   "execution_count": 7,
   "metadata": {},
   "outputs": [
    {
     "output_type": "display_data",
     "data": {
      "application/vnd.plotly.v1+json": {
       "config": {
        "plotlyServerURL": "https://plot.ly"
       },
       "data": [
        {
         "mode": "lines",
         "name": "p=0.375",
         "type": "scatter",
         "x": [
          26,
          27,
          28,
          29,
          30,
          31,
          32,
          33,
          34,
          35,
          36,
          37,
          38,
          39,
          40,
          41,
          42,
          43,
          44,
          45,
          46,
          47,
          48
         ],
         "y": [
          0.0009950786122393084,
          0.0016331430736997693,
          0.0025496933315203216,
          0.0037907167354148718,
          0.0053722635826916115,
          0.007264279483352892,
          0.00937973444762949,
          0.011574024621751276,
          0.013657750461890193,
          0.015422470588976429,
          0.01667491744827843,
          0.017271928378466077,
          0.017147336369661724,
          0.01632385151498613,
          0.014907038233504526,
          0.013063442709215695,
          0.010989027297233334,
          0.008876007819204716,
          0.006885551664728373,
          0.005131131448740998,
          0.0036738116269717878,
          0.0025276193542603303,
          0.0016712645080332281
         ]
        },
        {
         "mode": "lines",
         "name": "p=0.951",
         "type": "scatter",
         "x": [
          89,
          90,
          91,
          92,
          93,
          94,
          95,
          96,
          97,
          98
         ],
         "y": [
          0.0015806481100125074,
          0.0037266150080788314,
          0.007899548919479008,
          0.014906858585703153,
          0.024735593007270705,
          0.03553216494588457,
          0.04328909147046697,
          0.04349170153669282,
          0.03459583464101062,
          0.020429048910936973
         ]
        },
        {
         "mode": "lines",
         "name": "p=0.732",
         "type": "scatter",
         "x": [
          63,
          64,
          65,
          66,
          67,
          68,
          69,
          70,
          71,
          72,
          73,
          74,
          75,
          76,
          77,
          78,
          79,
          80,
          81,
          82
         ],
         "y": [
          0.0010387965344378371,
          0.0016402691533084184,
          0.002481230650356923,
          0.0035938017980050472,
          0.00498105241149344,
          0.006602205136932754,
          0.008362820540020213,
          0.0101153125528413,
          0.011673607528969104,
          0.01284202364021069,
          0.013453383174087325,
          0.013406840162454955,
          0.01269408470072553,
          0.011404879044740647,
          0.00970899049104696,
          0.007819341567695053,
          0.0059474205566845345,
          0.004264035707473888,
          0.0028756013918826207,
          0.0018198320495038068
         ]
        },
        {
         "mode": "lines",
         "name": "p=0.599",
         "type": "scatter",
         "x": [
          48,
          49,
          50,
          51,
          52,
          53,
          54,
          55,
          56,
          57,
          58,
          59,
          60,
          61,
          62,
          63,
          64,
          65,
          66,
          67,
          68,
          69,
          70
         ],
         "y": [
          0.0006822697785948716,
          0.0010800116822484583,
          0.0016432123111478532,
          0.0024030265181266323,
          0.0033776632988706855,
          0.004562961220151854,
          0.0059240120195722355,
          0.007390539258620728,
          0.008858611792702304,
          0.010200196685103316,
          0.011280128921063044,
          0.011977781796178923,
          0.012208830338739466,
          0.011941785608021543,
          0.011204880847756024,
          0.010081272288317475,
          0.008693649965284458,
          0.00718218106009124,
          0.005681271096441392,
          0.004300457724441996,
          0.0031130404583115954,
          0.002153528916754931,
          0.0014225889029194146
         ]
        },
        {
         "mode": "lines",
         "name": "p=0.156",
         "type": "scatter",
         "x": [
          8,
          9,
          10,
          11,
          12,
          13,
          14,
          15,
          16,
          17,
          18,
          19,
          20,
          21,
          22,
          23
         ],
         "y": [
          0.0027065432519378365,
          0.005114508726859074,
          0.008603773140767008,
          0.013013149203817373,
          0.017841641317660608,
          0.022326351527022358,
          0.025647947125003588,
          0.02718337874748855,
          0.02669598893364837,
          0.024384845744607496,
          0.020785919176955877,
          0.016583382579050086,
          0.012415716220758556,
          0.008743515901245294,
          0.005804090145524772,
          0.0036386857504723067
         ]
        },
        {
         "histnorm": "probability density",
         "nbinsx": 30,
         "type": "histogram",
         "x": [
          42,
          38,
          30,
          37,
          31,
          41,
          31,
          46,
          44,
          40,
          24,
          43,
          42,
          37,
          31,
          46,
          39,
          29,
          46,
          40,
          40,
          42,
          35,
          43,
          46,
          45,
          31,
          39,
          94,
          95,
          96,
          95,
          96,
          91,
          93,
          94,
          97,
          97,
          98,
          94,
          98,
          96,
          97,
          92,
          95,
          95,
          94,
          97,
          95,
          95,
          97,
          91,
          95,
          94,
          92,
          95,
          96,
          98,
          95,
          97,
          74,
          68,
          75,
          78,
          75,
          67,
          76,
          72,
          87,
          75,
          76,
          78,
          73,
          73,
          71,
          76,
          76,
          77,
          77,
          73,
          52,
          57,
          66,
          63,
          52,
          58,
          62,
          55,
          61,
          55,
          54,
          49,
          60,
          58,
          65,
          65,
          59,
          71,
          51,
          61,
          23,
          13,
          14,
          15,
          15,
          25,
          12,
          8,
          15,
          12,
          14,
          18,
          18,
          14,
          16,
          16,
          17,
          13,
          16,
          23,
          15,
          20,
          15,
          14,
          17,
          17,
          20,
          13,
          15,
          16,
          18,
          10,
          25
         ]
        }
       ],
       "layout": {
        "template": {
         "data": {
          "bar": [
           {
            "error_x": {
             "color": "#2a3f5f"
            },
            "error_y": {
             "color": "#2a3f5f"
            },
            "marker": {
             "line": {
              "color": "#E5ECF6",
              "width": 0.5
             }
            },
            "type": "bar"
           }
          ],
          "barpolar": [
           {
            "marker": {
             "line": {
              "color": "#E5ECF6",
              "width": 0.5
             }
            },
            "type": "barpolar"
           }
          ],
          "carpet": [
           {
            "aaxis": {
             "endlinecolor": "#2a3f5f",
             "gridcolor": "white",
             "linecolor": "white",
             "minorgridcolor": "white",
             "startlinecolor": "#2a3f5f"
            },
            "baxis": {
             "endlinecolor": "#2a3f5f",
             "gridcolor": "white",
             "linecolor": "white",
             "minorgridcolor": "white",
             "startlinecolor": "#2a3f5f"
            },
            "type": "carpet"
           }
          ],
          "choropleth": [
           {
            "colorbar": {
             "outlinewidth": 0,
             "ticks": ""
            },
            "type": "choropleth"
           }
          ],
          "contour": [
           {
            "colorbar": {
             "outlinewidth": 0,
             "ticks": ""
            },
            "colorscale": [
             [
              0,
              "#0d0887"
             ],
             [
              0.1111111111111111,
              "#46039f"
             ],
             [
              0.2222222222222222,
              "#7201a8"
             ],
             [
              0.3333333333333333,
              "#9c179e"
             ],
             [
              0.4444444444444444,
              "#bd3786"
             ],
             [
              0.5555555555555556,
              "#d8576b"
             ],
             [
              0.6666666666666666,
              "#ed7953"
             ],
             [
              0.7777777777777778,
              "#fb9f3a"
             ],
             [
              0.8888888888888888,
              "#fdca26"
             ],
             [
              1,
              "#f0f921"
             ]
            ],
            "type": "contour"
           }
          ],
          "contourcarpet": [
           {
            "colorbar": {
             "outlinewidth": 0,
             "ticks": ""
            },
            "type": "contourcarpet"
           }
          ],
          "heatmap": [
           {
            "colorbar": {
             "outlinewidth": 0,
             "ticks": ""
            },
            "colorscale": [
             [
              0,
              "#0d0887"
             ],
             [
              0.1111111111111111,
              "#46039f"
             ],
             [
              0.2222222222222222,
              "#7201a8"
             ],
             [
              0.3333333333333333,
              "#9c179e"
             ],
             [
              0.4444444444444444,
              "#bd3786"
             ],
             [
              0.5555555555555556,
              "#d8576b"
             ],
             [
              0.6666666666666666,
              "#ed7953"
             ],
             [
              0.7777777777777778,
              "#fb9f3a"
             ],
             [
              0.8888888888888888,
              "#fdca26"
             ],
             [
              1,
              "#f0f921"
             ]
            ],
            "type": "heatmap"
           }
          ],
          "heatmapgl": [
           {
            "colorbar": {
             "outlinewidth": 0,
             "ticks": ""
            },
            "colorscale": [
             [
              0,
              "#0d0887"
             ],
             [
              0.1111111111111111,
              "#46039f"
             ],
             [
              0.2222222222222222,
              "#7201a8"
             ],
             [
              0.3333333333333333,
              "#9c179e"
             ],
             [
              0.4444444444444444,
              "#bd3786"
             ],
             [
              0.5555555555555556,
              "#d8576b"
             ],
             [
              0.6666666666666666,
              "#ed7953"
             ],
             [
              0.7777777777777778,
              "#fb9f3a"
             ],
             [
              0.8888888888888888,
              "#fdca26"
             ],
             [
              1,
              "#f0f921"
             ]
            ],
            "type": "heatmapgl"
           }
          ],
          "histogram": [
           {
            "marker": {
             "colorbar": {
              "outlinewidth": 0,
              "ticks": ""
             }
            },
            "type": "histogram"
           }
          ],
          "histogram2d": [
           {
            "colorbar": {
             "outlinewidth": 0,
             "ticks": ""
            },
            "colorscale": [
             [
              0,
              "#0d0887"
             ],
             [
              0.1111111111111111,
              "#46039f"
             ],
             [
              0.2222222222222222,
              "#7201a8"
             ],
             [
              0.3333333333333333,
              "#9c179e"
             ],
             [
              0.4444444444444444,
              "#bd3786"
             ],
             [
              0.5555555555555556,
              "#d8576b"
             ],
             [
              0.6666666666666666,
              "#ed7953"
             ],
             [
              0.7777777777777778,
              "#fb9f3a"
             ],
             [
              0.8888888888888888,
              "#fdca26"
             ],
             [
              1,
              "#f0f921"
             ]
            ],
            "type": "histogram2d"
           }
          ],
          "histogram2dcontour": [
           {
            "colorbar": {
             "outlinewidth": 0,
             "ticks": ""
            },
            "colorscale": [
             [
              0,
              "#0d0887"
             ],
             [
              0.1111111111111111,
              "#46039f"
             ],
             [
              0.2222222222222222,
              "#7201a8"
             ],
             [
              0.3333333333333333,
              "#9c179e"
             ],
             [
              0.4444444444444444,
              "#bd3786"
             ],
             [
              0.5555555555555556,
              "#d8576b"
             ],
             [
              0.6666666666666666,
              "#ed7953"
             ],
             [
              0.7777777777777778,
              "#fb9f3a"
             ],
             [
              0.8888888888888888,
              "#fdca26"
             ],
             [
              1,
              "#f0f921"
             ]
            ],
            "type": "histogram2dcontour"
           }
          ],
          "mesh3d": [
           {
            "colorbar": {
             "outlinewidth": 0,
             "ticks": ""
            },
            "type": "mesh3d"
           }
          ],
          "parcoords": [
           {
            "line": {
             "colorbar": {
              "outlinewidth": 0,
              "ticks": ""
             }
            },
            "type": "parcoords"
           }
          ],
          "pie": [
           {
            "automargin": true,
            "type": "pie"
           }
          ],
          "scatter": [
           {
            "marker": {
             "colorbar": {
              "outlinewidth": 0,
              "ticks": ""
             }
            },
            "type": "scatter"
           }
          ],
          "scatter3d": [
           {
            "line": {
             "colorbar": {
              "outlinewidth": 0,
              "ticks": ""
             }
            },
            "marker": {
             "colorbar": {
              "outlinewidth": 0,
              "ticks": ""
             }
            },
            "type": "scatter3d"
           }
          ],
          "scattercarpet": [
           {
            "marker": {
             "colorbar": {
              "outlinewidth": 0,
              "ticks": ""
             }
            },
            "type": "scattercarpet"
           }
          ],
          "scattergeo": [
           {
            "marker": {
             "colorbar": {
              "outlinewidth": 0,
              "ticks": ""
             }
            },
            "type": "scattergeo"
           }
          ],
          "scattergl": [
           {
            "marker": {
             "colorbar": {
              "outlinewidth": 0,
              "ticks": ""
             }
            },
            "type": "scattergl"
           }
          ],
          "scattermapbox": [
           {
            "marker": {
             "colorbar": {
              "outlinewidth": 0,
              "ticks": ""
             }
            },
            "type": "scattermapbox"
           }
          ],
          "scatterpolar": [
           {
            "marker": {
             "colorbar": {
              "outlinewidth": 0,
              "ticks": ""
             }
            },
            "type": "scatterpolar"
           }
          ],
          "scatterpolargl": [
           {
            "marker": {
             "colorbar": {
              "outlinewidth": 0,
              "ticks": ""
             }
            },
            "type": "scatterpolargl"
           }
          ],
          "scatterternary": [
           {
            "marker": {
             "colorbar": {
              "outlinewidth": 0,
              "ticks": ""
             }
            },
            "type": "scatterternary"
           }
          ],
          "surface": [
           {
            "colorbar": {
             "outlinewidth": 0,
             "ticks": ""
            },
            "colorscale": [
             [
              0,
              "#0d0887"
             ],
             [
              0.1111111111111111,
              "#46039f"
             ],
             [
              0.2222222222222222,
              "#7201a8"
             ],
             [
              0.3333333333333333,
              "#9c179e"
             ],
             [
              0.4444444444444444,
              "#bd3786"
             ],
             [
              0.5555555555555556,
              "#d8576b"
             ],
             [
              0.6666666666666666,
              "#ed7953"
             ],
             [
              0.7777777777777778,
              "#fb9f3a"
             ],
             [
              0.8888888888888888,
              "#fdca26"
             ],
             [
              1,
              "#f0f921"
             ]
            ],
            "type": "surface"
           }
          ],
          "table": [
           {
            "cells": {
             "fill": {
              "color": "#EBF0F8"
             },
             "line": {
              "color": "white"
             }
            },
            "header": {
             "fill": {
              "color": "#C8D4E3"
             },
             "line": {
              "color": "white"
             }
            },
            "type": "table"
           }
          ]
         },
         "layout": {
          "annotationdefaults": {
           "arrowcolor": "#2a3f5f",
           "arrowhead": 0,
           "arrowwidth": 1
          },
          "coloraxis": {
           "colorbar": {
            "outlinewidth": 0,
            "ticks": ""
           }
          },
          "colorscale": {
           "diverging": [
            [
             0,
             "#8e0152"
            ],
            [
             0.1,
             "#c51b7d"
            ],
            [
             0.2,
             "#de77ae"
            ],
            [
             0.3,
             "#f1b6da"
            ],
            [
             0.4,
             "#fde0ef"
            ],
            [
             0.5,
             "#f7f7f7"
            ],
            [
             0.6,
             "#e6f5d0"
            ],
            [
             0.7,
             "#b8e186"
            ],
            [
             0.8,
             "#7fbc41"
            ],
            [
             0.9,
             "#4d9221"
            ],
            [
             1,
             "#276419"
            ]
           ],
           "sequential": [
            [
             0,
             "#0d0887"
            ],
            [
             0.1111111111111111,
             "#46039f"
            ],
            [
             0.2222222222222222,
             "#7201a8"
            ],
            [
             0.3333333333333333,
             "#9c179e"
            ],
            [
             0.4444444444444444,
             "#bd3786"
            ],
            [
             0.5555555555555556,
             "#d8576b"
            ],
            [
             0.6666666666666666,
             "#ed7953"
            ],
            [
             0.7777777777777778,
             "#fb9f3a"
            ],
            [
             0.8888888888888888,
             "#fdca26"
            ],
            [
             1,
             "#f0f921"
            ]
           ],
           "sequentialminus": [
            [
             0,
             "#0d0887"
            ],
            [
             0.1111111111111111,
             "#46039f"
            ],
            [
             0.2222222222222222,
             "#7201a8"
            ],
            [
             0.3333333333333333,
             "#9c179e"
            ],
            [
             0.4444444444444444,
             "#bd3786"
            ],
            [
             0.5555555555555556,
             "#d8576b"
            ],
            [
             0.6666666666666666,
             "#ed7953"
            ],
            [
             0.7777777777777778,
             "#fb9f3a"
            ],
            [
             0.8888888888888888,
             "#fdca26"
            ],
            [
             1,
             "#f0f921"
            ]
           ]
          },
          "colorway": [
           "#636efa",
           "#EF553B",
           "#00cc96",
           "#ab63fa",
           "#FFA15A",
           "#19d3f3",
           "#FF6692",
           "#B6E880",
           "#FF97FF",
           "#FECB52"
          ],
          "font": {
           "color": "#2a3f5f"
          },
          "geo": {
           "bgcolor": "white",
           "lakecolor": "white",
           "landcolor": "#E5ECF6",
           "showlakes": true,
           "showland": true,
           "subunitcolor": "white"
          },
          "hoverlabel": {
           "align": "left"
          },
          "hovermode": "closest",
          "mapbox": {
           "style": "light"
          },
          "paper_bgcolor": "white",
          "plot_bgcolor": "#E5ECF6",
          "polar": {
           "angularaxis": {
            "gridcolor": "white",
            "linecolor": "white",
            "ticks": ""
           },
           "bgcolor": "#E5ECF6",
           "radialaxis": {
            "gridcolor": "white",
            "linecolor": "white",
            "ticks": ""
           }
          },
          "scene": {
           "xaxis": {
            "backgroundcolor": "#E5ECF6",
            "gridcolor": "white",
            "gridwidth": 2,
            "linecolor": "white",
            "showbackground": true,
            "ticks": "",
            "zerolinecolor": "white"
           },
           "yaxis": {
            "backgroundcolor": "#E5ECF6",
            "gridcolor": "white",
            "gridwidth": 2,
            "linecolor": "white",
            "showbackground": true,
            "ticks": "",
            "zerolinecolor": "white"
           },
           "zaxis": {
            "backgroundcolor": "#E5ECF6",
            "gridcolor": "white",
            "gridwidth": 2,
            "linecolor": "white",
            "showbackground": true,
            "ticks": "",
            "zerolinecolor": "white"
           }
          },
          "shapedefaults": {
           "line": {
            "color": "#2a3f5f"
           }
          },
          "ternary": {
           "aaxis": {
            "gridcolor": "white",
            "linecolor": "white",
            "ticks": ""
           },
           "baxis": {
            "gridcolor": "white",
            "linecolor": "white",
            "ticks": ""
           },
           "bgcolor": "#E5ECF6",
           "caxis": {
            "gridcolor": "white",
            "linecolor": "white",
            "ticks": ""
           }
          },
          "title": {
           "x": 0.05
          },
          "xaxis": {
           "automargin": true,
           "gridcolor": "white",
           "linecolor": "white",
           "ticks": "",
           "title": {
            "standoff": 15
           },
           "zerolinecolor": "white",
           "zerolinewidth": 2
          },
          "yaxis": {
           "automargin": true,
           "gridcolor": "white",
           "linecolor": "white",
           "ticks": "",
           "title": {
            "standoff": 15
           },
           "zerolinecolor": "white",
           "zerolinewidth": 2
          }
         }
        }
       }
      }
     },
     "metadata": {}
    }
   ],
   "source": [
    "proportions = n_values/np.sum(n_values)\n",
    "plot_binomial_mixture(p_values, proportions=proportions, S=S)"
   ]
  },
  {
   "cell_type": "code",
   "execution_count": 8,
   "metadata": {},
   "outputs": [],
   "source": [
    "from BinomialEM import BinomialEM"
   ]
  },
  {
   "cell_type": "code",
   "execution_count": 9,
   "metadata": {},
   "outputs": [
    {
     "output_type": "stream",
     "name": "stderr",
     "text": [
      "100%|██████████| 500/500 [00:01<00:00, 464.26it/s]\n"
     ]
    },
    {
     "output_type": "execute_result",
     "data": {
      "text/plain": [
       "array([0.15462279, 0.15462279, 0.28391218, 0.42125118, 0.42125118,\n",
       "       0.58750466, 0.73681867, 0.73681867, 0.88782851, 0.95125157])"
      ]
     },
     "metadata": {},
     "execution_count": 9
    }
   ],
   "source": [
    "bem1 = BinomialEM(n_components=10, n_estimation=n_estimation, max_iter=500)\n",
    "bem1.fit(S)\n",
    "bem1.p_"
   ]
  },
  {
   "cell_type": "code",
   "execution_count": 16,
   "metadata": {},
   "outputs": [
    {
     "output_type": "execute_result",
     "data": {
      "text/plain": [
       "<BinomialEM.BinomialEM at 0x19a43e499a0>"
      ]
     },
     "metadata": {},
     "execution_count": 16
    }
   ],
   "source": [
    "bem1.save(\"test_save.pkl\")\n",
    "del bem1\n",
    "bem1 = BinomialEM()\n",
    "bem1.load(\"test_save.pkl\")\n",
    "bem1"
   ]
  },
  {
   "cell_type": "code",
   "execution_count": 18,
   "metadata": {},
   "outputs": [
    {
     "output_type": "execute_result",
     "data": {
      "text/plain": [
       "array([3, 3, 2, 3, 2, 3, 2, 3, 3, 3, 2, 3, 3, 3, 2, 3, 3, 2, 3, 3, 3, 3,\n",
       "       3, 3, 3, 3, 2, 3, 9, 9, 9, 9, 9, 9, 9, 9, 9, 9, 9, 9, 9, 9, 9, 9,\n",
       "       9, 9, 9, 9, 9, 9, 9, 9, 9, 9, 9, 9, 9, 9, 9, 9, 7, 7, 7, 7, 7, 7,\n",
       "       7, 7, 8, 7, 7, 7, 7, 7, 7, 7, 7, 7, 7, 7, 5, 5, 5, 5, 5, 5, 5, 5,\n",
       "       5, 5, 5, 3, 5, 5, 5, 5, 5, 7, 5, 5, 2, 1, 1, 1, 1, 2, 1, 1, 1, 1,\n",
       "       1, 1, 1, 1, 1, 1, 1, 1, 1, 2, 1, 1, 1, 1, 1, 1, 1, 1, 1, 1, 1, 1,\n",
       "       2], dtype=int64)"
      ]
     },
     "metadata": {},
     "execution_count": 18
    }
   ],
   "source": [
    "bem1.predict(S)"
   ]
  },
  {
   "source": [
    "When two binomial models in th mixture are too similar, the EM algorithm will not separate them properly, therefore a solution is too first overestimate the number of components of the mixture so it can capture little differences in the data. And then only get the unique values obtained after the first run of the algorithm to initialize the second run of the EM algorithm."
   ],
   "cell_type": "markdown",
   "metadata": {}
  },
  {
   "cell_type": "code",
   "execution_count": 17,
   "metadata": {},
   "outputs": [
    {
     "output_type": "execute_result",
     "data": {
      "text/plain": [
       "array([0.154623, 0.283912, 0.421251, 0.587505, 0.736819, 0.887829,\n",
       "       0.951252])"
      ]
     },
     "metadata": {},
     "execution_count": 17
    }
   ],
   "source": [
    "first_p = np.unique(np.around(bem1.p_,6))\n",
    "first_p"
   ]
  },
  {
   "cell_type": "code",
   "execution_count": 11,
   "metadata": {},
   "outputs": [
    {
     "output_type": "stream",
     "name": "stderr",
     "text": [
      "100%|██████████| 100/100 [00:00<00:00, 357.10it/s]\n"
     ]
    }
   ],
   "source": [
    "bem2 = BinomialEM(n_components=first_p.shape[0], n_estimation=n_estimation)\n",
    "bem2.fit(S, initial_p=first_p)"
   ]
  },
  {
   "cell_type": "code",
   "execution_count": 12,
   "metadata": {},
   "outputs": [
    {
     "output_type": "display_data",
     "data": {
      "application/vnd.plotly.v1+json": {
       "config": {
        "plotlyServerURL": "https://plot.ly"
       },
       "data": [
        {
         "mode": "lines",
         "name": "p=0.155",
         "type": "scatter",
         "x": [
          8,
          9,
          10,
          11,
          12,
          13,
          14,
          15,
          16,
          17,
          18,
          19,
          20,
          21,
          22,
          23
         ],
         "y": [
          0.0026942246109434675,
          0.005037349647729548,
          0.00838429342542556,
          0.012546981945690096,
          0.01702044903646902,
          0.021073337043251667,
          0.023952315857387375,
          0.025117573518231972,
          0.024406168483636366,
          0.022057330449293307,
          0.018602937060045593,
          0.014684688822813034,
          0.01087784211662777,
          0.007579427850347511,
          0.004978102258959072,
          0.003087831263913343
         ]
        },
        {
         "mode": "lines",
         "name": "p=0.284",
         "type": "scatter",
         "x": [
          18,
          19,
          20,
          21,
          22,
          23,
          24,
          25,
          26,
          27,
          28,
          29,
          30,
          31,
          32,
          33,
          34,
          35,
          36,
          37,
          38
         ],
         "y": [
          0.00040659571796619213,
          0.0006957300946311734,
          0.0011171553008655962,
          0.0016873375853366508,
          0.0024022827824636745,
          0.003230045447413481,
          0.004108713453592336,
          0.004952188592344528,
          0.005663733741562197,
          0.006154439711715124,
          0.00636166928317225,
          0.006262147954524991,
          0.0058759508720598935,
          0.005260563168088075,
          0.004497271327202961,
          0.003674191604742999,
          0.0028706181328401405,
          0.0021461943770427813,
          0.0015363764665749836,
          0.001053643358136663,
          0.0006925774138389062
         ]
        },
        {
         "mode": "lines",
         "name": "p=0.421",
         "type": "scatter",
         "x": [
          31,
          32,
          33,
          34,
          35,
          36,
          37,
          38,
          39,
          40,
          41,
          42,
          43,
          44,
          45,
          46,
          47,
          48,
          49,
          50,
          51,
          52,
          53
         ],
         "y": [
          0.001083425769671134,
          0.0017003929089682147,
          0.002550323481431079,
          0.003657987076282461,
          0.005020755463394238,
          0.006598282976663041,
          0.008307305816139358,
          0.010024625628580251,
          0.011599686631561105,
          0.012875589203543326,
          0.01371467489816579,
          0.01402294562560736,
          0.013767332443921443,
          0.012981443584931139,
          0.011758434792676702,
          0.010233056793194962,
          0.008557606208853952,
          0.006877616278686889,
          0.0053124666514597005,
          0.003944095300074289,
          0.002814480473443077,
          0.0019303763486036604,
          0.0012725016882207227
         ]
        },
        {
         "mode": "lines",
         "name": "p=0.588",
         "type": "scatter",
         "x": [
          47,
          48,
          49,
          50,
          51,
          52,
          53,
          54,
          55,
          56,
          57,
          58,
          59,
          60,
          61,
          62,
          63,
          64,
          65,
          66,
          67,
          68,
          69
         ],
         "y": [
          0.0005961898693320725,
          0.0009375868371392167,
          0.0014171344070852709,
          0.0020587494285401907,
          0.0028747203092944944,
          0.003858163347300168,
          0.00497666326316073,
          0.006169282127555797,
          0.0073488951463740034,
          0.008410829224076087,
          0.009247171519936278,
          0.00976431210058026,
          0.009899909136545985,
          0.0096350970224669,
          0.008998674149001438,
          0.00806201720635743,
          0.0069259451079098835,
          0.005702864758972231,
          0.004498570117404244,
          0.0033977457676298705,
          0.0024557676373131074,
          0.0016974014792633697,
          0.00112118619372995
         ]
        },
        {
         "mode": "lines",
         "name": "p=0.737",
         "type": "scatter",
         "x": [
          63,
          64,
          65,
          66,
          67,
          68,
          69,
          70,
          71,
          72,
          73,
          74,
          75,
          76,
          77,
          78,
          79,
          80,
          81,
          82,
          83
         ],
         "y": [
          0.0008315677677077211,
          0.001345937671534386,
          0.0020869865216238434,
          0.0030984843321971945,
          0.004402090534658867,
          0.005980941418655593,
          0.007765617362152932,
          0.009628201990368502,
          0.011389735799293504,
          0.012843538826899198,
          0.013791942108379515,
          0.014088443716831007,
          0.01367353029690797,
          0.012592519295578688,
          0.010988507094191031,
          0.00907146600864744,
          0.0070725922119799925,
          0.005197727146409185,
          0.003593056163000977,
          0.0023308230573192575,
          0.0014151721384819001
         ]
        },
        {
         "mode": "lines",
         "name": "p=0.888",
         "type": "scatter",
         "x": [
          81,
          82,
          83,
          84,
          85,
          86,
          87,
          88,
          89,
          90,
          91,
          92,
          93,
          94
         ],
         "y": [
          0.00006849473403532722,
          0.000125615589191246,
          0.00021561777489149315,
          0.00034538287696149093,
          0.0005145747446413684,
          0.0007103753491515366,
          0.0009047805855140351,
          0.0010579144781248668,
          0.0011289856130246214,
          0.0010921572947040668,
          0.0009499273808443661,
          0.0007355152735370291,
          0.0005007781155384973,
          0.0002951631492854094
         ]
        },
        {
         "mode": "lines",
         "name": "p=0.951",
         "type": "scatter",
         "x": [
          90,
          91,
          92,
          93,
          94,
          95,
          96,
          97,
          98
         ],
         "y": [
          0.003484814245107765,
          0.007472621194037831,
          0.014264691238112954,
          0.023944410006190887,
          0.03479437606679478,
          0.04288164375134743,
          0.04358177578783025,
          0.035069365260845406,
          0.02094873537300301
         ]
        },
        {
         "histnorm": "probability density",
         "nbinsx": 30,
         "type": "histogram",
         "x": [
          42,
          38,
          30,
          37,
          31,
          41,
          31,
          46,
          44,
          40,
          24,
          43,
          42,
          37,
          31,
          46,
          39,
          29,
          46,
          40,
          40,
          42,
          35,
          43,
          46,
          45,
          31,
          39,
          94,
          95,
          96,
          95,
          96,
          91,
          93,
          94,
          97,
          97,
          98,
          94,
          98,
          96,
          97,
          92,
          95,
          95,
          94,
          97,
          95,
          95,
          97,
          91,
          95,
          94,
          92,
          95,
          96,
          98,
          95,
          97,
          74,
          68,
          75,
          78,
          75,
          67,
          76,
          72,
          87,
          75,
          76,
          78,
          73,
          73,
          71,
          76,
          76,
          77,
          77,
          73,
          52,
          57,
          66,
          63,
          52,
          58,
          62,
          55,
          61,
          55,
          54,
          49,
          60,
          58,
          65,
          65,
          59,
          71,
          51,
          61,
          23,
          13,
          14,
          15,
          15,
          25,
          12,
          8,
          15,
          12,
          14,
          18,
          18,
          14,
          16,
          16,
          17,
          13,
          16,
          23,
          15,
          20,
          15,
          14,
          17,
          17,
          20,
          13,
          15,
          16,
          18,
          10,
          25
         ]
        }
       ],
       "layout": {
        "template": {
         "data": {
          "bar": [
           {
            "error_x": {
             "color": "#2a3f5f"
            },
            "error_y": {
             "color": "#2a3f5f"
            },
            "marker": {
             "line": {
              "color": "#E5ECF6",
              "width": 0.5
             }
            },
            "type": "bar"
           }
          ],
          "barpolar": [
           {
            "marker": {
             "line": {
              "color": "#E5ECF6",
              "width": 0.5
             }
            },
            "type": "barpolar"
           }
          ],
          "carpet": [
           {
            "aaxis": {
             "endlinecolor": "#2a3f5f",
             "gridcolor": "white",
             "linecolor": "white",
             "minorgridcolor": "white",
             "startlinecolor": "#2a3f5f"
            },
            "baxis": {
             "endlinecolor": "#2a3f5f",
             "gridcolor": "white",
             "linecolor": "white",
             "minorgridcolor": "white",
             "startlinecolor": "#2a3f5f"
            },
            "type": "carpet"
           }
          ],
          "choropleth": [
           {
            "colorbar": {
             "outlinewidth": 0,
             "ticks": ""
            },
            "type": "choropleth"
           }
          ],
          "contour": [
           {
            "colorbar": {
             "outlinewidth": 0,
             "ticks": ""
            },
            "colorscale": [
             [
              0,
              "#0d0887"
             ],
             [
              0.1111111111111111,
              "#46039f"
             ],
             [
              0.2222222222222222,
              "#7201a8"
             ],
             [
              0.3333333333333333,
              "#9c179e"
             ],
             [
              0.4444444444444444,
              "#bd3786"
             ],
             [
              0.5555555555555556,
              "#d8576b"
             ],
             [
              0.6666666666666666,
              "#ed7953"
             ],
             [
              0.7777777777777778,
              "#fb9f3a"
             ],
             [
              0.8888888888888888,
              "#fdca26"
             ],
             [
              1,
              "#f0f921"
             ]
            ],
            "type": "contour"
           }
          ],
          "contourcarpet": [
           {
            "colorbar": {
             "outlinewidth": 0,
             "ticks": ""
            },
            "type": "contourcarpet"
           }
          ],
          "heatmap": [
           {
            "colorbar": {
             "outlinewidth": 0,
             "ticks": ""
            },
            "colorscale": [
             [
              0,
              "#0d0887"
             ],
             [
              0.1111111111111111,
              "#46039f"
             ],
             [
              0.2222222222222222,
              "#7201a8"
             ],
             [
              0.3333333333333333,
              "#9c179e"
             ],
             [
              0.4444444444444444,
              "#bd3786"
             ],
             [
              0.5555555555555556,
              "#d8576b"
             ],
             [
              0.6666666666666666,
              "#ed7953"
             ],
             [
              0.7777777777777778,
              "#fb9f3a"
             ],
             [
              0.8888888888888888,
              "#fdca26"
             ],
             [
              1,
              "#f0f921"
             ]
            ],
            "type": "heatmap"
           }
          ],
          "heatmapgl": [
           {
            "colorbar": {
             "outlinewidth": 0,
             "ticks": ""
            },
            "colorscale": [
             [
              0,
              "#0d0887"
             ],
             [
              0.1111111111111111,
              "#46039f"
             ],
             [
              0.2222222222222222,
              "#7201a8"
             ],
             [
              0.3333333333333333,
              "#9c179e"
             ],
             [
              0.4444444444444444,
              "#bd3786"
             ],
             [
              0.5555555555555556,
              "#d8576b"
             ],
             [
              0.6666666666666666,
              "#ed7953"
             ],
             [
              0.7777777777777778,
              "#fb9f3a"
             ],
             [
              0.8888888888888888,
              "#fdca26"
             ],
             [
              1,
              "#f0f921"
             ]
            ],
            "type": "heatmapgl"
           }
          ],
          "histogram": [
           {
            "marker": {
             "colorbar": {
              "outlinewidth": 0,
              "ticks": ""
             }
            },
            "type": "histogram"
           }
          ],
          "histogram2d": [
           {
            "colorbar": {
             "outlinewidth": 0,
             "ticks": ""
            },
            "colorscale": [
             [
              0,
              "#0d0887"
             ],
             [
              0.1111111111111111,
              "#46039f"
             ],
             [
              0.2222222222222222,
              "#7201a8"
             ],
             [
              0.3333333333333333,
              "#9c179e"
             ],
             [
              0.4444444444444444,
              "#bd3786"
             ],
             [
              0.5555555555555556,
              "#d8576b"
             ],
             [
              0.6666666666666666,
              "#ed7953"
             ],
             [
              0.7777777777777778,
              "#fb9f3a"
             ],
             [
              0.8888888888888888,
              "#fdca26"
             ],
             [
              1,
              "#f0f921"
             ]
            ],
            "type": "histogram2d"
           }
          ],
          "histogram2dcontour": [
           {
            "colorbar": {
             "outlinewidth": 0,
             "ticks": ""
            },
            "colorscale": [
             [
              0,
              "#0d0887"
             ],
             [
              0.1111111111111111,
              "#46039f"
             ],
             [
              0.2222222222222222,
              "#7201a8"
             ],
             [
              0.3333333333333333,
              "#9c179e"
             ],
             [
              0.4444444444444444,
              "#bd3786"
             ],
             [
              0.5555555555555556,
              "#d8576b"
             ],
             [
              0.6666666666666666,
              "#ed7953"
             ],
             [
              0.7777777777777778,
              "#fb9f3a"
             ],
             [
              0.8888888888888888,
              "#fdca26"
             ],
             [
              1,
              "#f0f921"
             ]
            ],
            "type": "histogram2dcontour"
           }
          ],
          "mesh3d": [
           {
            "colorbar": {
             "outlinewidth": 0,
             "ticks": ""
            },
            "type": "mesh3d"
           }
          ],
          "parcoords": [
           {
            "line": {
             "colorbar": {
              "outlinewidth": 0,
              "ticks": ""
             }
            },
            "type": "parcoords"
           }
          ],
          "pie": [
           {
            "automargin": true,
            "type": "pie"
           }
          ],
          "scatter": [
           {
            "marker": {
             "colorbar": {
              "outlinewidth": 0,
              "ticks": ""
             }
            },
            "type": "scatter"
           }
          ],
          "scatter3d": [
           {
            "line": {
             "colorbar": {
              "outlinewidth": 0,
              "ticks": ""
             }
            },
            "marker": {
             "colorbar": {
              "outlinewidth": 0,
              "ticks": ""
             }
            },
            "type": "scatter3d"
           }
          ],
          "scattercarpet": [
           {
            "marker": {
             "colorbar": {
              "outlinewidth": 0,
              "ticks": ""
             }
            },
            "type": "scattercarpet"
           }
          ],
          "scattergeo": [
           {
            "marker": {
             "colorbar": {
              "outlinewidth": 0,
              "ticks": ""
             }
            },
            "type": "scattergeo"
           }
          ],
          "scattergl": [
           {
            "marker": {
             "colorbar": {
              "outlinewidth": 0,
              "ticks": ""
             }
            },
            "type": "scattergl"
           }
          ],
          "scattermapbox": [
           {
            "marker": {
             "colorbar": {
              "outlinewidth": 0,
              "ticks": ""
             }
            },
            "type": "scattermapbox"
           }
          ],
          "scatterpolar": [
           {
            "marker": {
             "colorbar": {
              "outlinewidth": 0,
              "ticks": ""
             }
            },
            "type": "scatterpolar"
           }
          ],
          "scatterpolargl": [
           {
            "marker": {
             "colorbar": {
              "outlinewidth": 0,
              "ticks": ""
             }
            },
            "type": "scatterpolargl"
           }
          ],
          "scatterternary": [
           {
            "marker": {
             "colorbar": {
              "outlinewidth": 0,
              "ticks": ""
             }
            },
            "type": "scatterternary"
           }
          ],
          "surface": [
           {
            "colorbar": {
             "outlinewidth": 0,
             "ticks": ""
            },
            "colorscale": [
             [
              0,
              "#0d0887"
             ],
             [
              0.1111111111111111,
              "#46039f"
             ],
             [
              0.2222222222222222,
              "#7201a8"
             ],
             [
              0.3333333333333333,
              "#9c179e"
             ],
             [
              0.4444444444444444,
              "#bd3786"
             ],
             [
              0.5555555555555556,
              "#d8576b"
             ],
             [
              0.6666666666666666,
              "#ed7953"
             ],
             [
              0.7777777777777778,
              "#fb9f3a"
             ],
             [
              0.8888888888888888,
              "#fdca26"
             ],
             [
              1,
              "#f0f921"
             ]
            ],
            "type": "surface"
           }
          ],
          "table": [
           {
            "cells": {
             "fill": {
              "color": "#EBF0F8"
             },
             "line": {
              "color": "white"
             }
            },
            "header": {
             "fill": {
              "color": "#C8D4E3"
             },
             "line": {
              "color": "white"
             }
            },
            "type": "table"
           }
          ]
         },
         "layout": {
          "annotationdefaults": {
           "arrowcolor": "#2a3f5f",
           "arrowhead": 0,
           "arrowwidth": 1
          },
          "coloraxis": {
           "colorbar": {
            "outlinewidth": 0,
            "ticks": ""
           }
          },
          "colorscale": {
           "diverging": [
            [
             0,
             "#8e0152"
            ],
            [
             0.1,
             "#c51b7d"
            ],
            [
             0.2,
             "#de77ae"
            ],
            [
             0.3,
             "#f1b6da"
            ],
            [
             0.4,
             "#fde0ef"
            ],
            [
             0.5,
             "#f7f7f7"
            ],
            [
             0.6,
             "#e6f5d0"
            ],
            [
             0.7,
             "#b8e186"
            ],
            [
             0.8,
             "#7fbc41"
            ],
            [
             0.9,
             "#4d9221"
            ],
            [
             1,
             "#276419"
            ]
           ],
           "sequential": [
            [
             0,
             "#0d0887"
            ],
            [
             0.1111111111111111,
             "#46039f"
            ],
            [
             0.2222222222222222,
             "#7201a8"
            ],
            [
             0.3333333333333333,
             "#9c179e"
            ],
            [
             0.4444444444444444,
             "#bd3786"
            ],
            [
             0.5555555555555556,
             "#d8576b"
            ],
            [
             0.6666666666666666,
             "#ed7953"
            ],
            [
             0.7777777777777778,
             "#fb9f3a"
            ],
            [
             0.8888888888888888,
             "#fdca26"
            ],
            [
             1,
             "#f0f921"
            ]
           ],
           "sequentialminus": [
            [
             0,
             "#0d0887"
            ],
            [
             0.1111111111111111,
             "#46039f"
            ],
            [
             0.2222222222222222,
             "#7201a8"
            ],
            [
             0.3333333333333333,
             "#9c179e"
            ],
            [
             0.4444444444444444,
             "#bd3786"
            ],
            [
             0.5555555555555556,
             "#d8576b"
            ],
            [
             0.6666666666666666,
             "#ed7953"
            ],
            [
             0.7777777777777778,
             "#fb9f3a"
            ],
            [
             0.8888888888888888,
             "#fdca26"
            ],
            [
             1,
             "#f0f921"
            ]
           ]
          },
          "colorway": [
           "#636efa",
           "#EF553B",
           "#00cc96",
           "#ab63fa",
           "#FFA15A",
           "#19d3f3",
           "#FF6692",
           "#B6E880",
           "#FF97FF",
           "#FECB52"
          ],
          "font": {
           "color": "#2a3f5f"
          },
          "geo": {
           "bgcolor": "white",
           "lakecolor": "white",
           "landcolor": "#E5ECF6",
           "showlakes": true,
           "showland": true,
           "subunitcolor": "white"
          },
          "hoverlabel": {
           "align": "left"
          },
          "hovermode": "closest",
          "mapbox": {
           "style": "light"
          },
          "paper_bgcolor": "white",
          "plot_bgcolor": "#E5ECF6",
          "polar": {
           "angularaxis": {
            "gridcolor": "white",
            "linecolor": "white",
            "ticks": ""
           },
           "bgcolor": "#E5ECF6",
           "radialaxis": {
            "gridcolor": "white",
            "linecolor": "white",
            "ticks": ""
           }
          },
          "scene": {
           "xaxis": {
            "backgroundcolor": "#E5ECF6",
            "gridcolor": "white",
            "gridwidth": 2,
            "linecolor": "white",
            "showbackground": true,
            "ticks": "",
            "zerolinecolor": "white"
           },
           "yaxis": {
            "backgroundcolor": "#E5ECF6",
            "gridcolor": "white",
            "gridwidth": 2,
            "linecolor": "white",
            "showbackground": true,
            "ticks": "",
            "zerolinecolor": "white"
           },
           "zaxis": {
            "backgroundcolor": "#E5ECF6",
            "gridcolor": "white",
            "gridwidth": 2,
            "linecolor": "white",
            "showbackground": true,
            "ticks": "",
            "zerolinecolor": "white"
           }
          },
          "shapedefaults": {
           "line": {
            "color": "#2a3f5f"
           }
          },
          "ternary": {
           "aaxis": {
            "gridcolor": "white",
            "linecolor": "white",
            "ticks": ""
           },
           "baxis": {
            "gridcolor": "white",
            "linecolor": "white",
            "ticks": ""
           },
           "bgcolor": "#E5ECF6",
           "caxis": {
            "gridcolor": "white",
            "linecolor": "white",
            "ticks": ""
           }
          },
          "title": {
           "x": 0.05
          },
          "xaxis": {
           "automargin": true,
           "gridcolor": "white",
           "linecolor": "white",
           "ticks": "",
           "title": {
            "standoff": 15
           },
           "zerolinecolor": "white",
           "zerolinewidth": 2
          },
          "yaxis": {
           "automargin": true,
           "gridcolor": "white",
           "linecolor": "white",
           "ticks": "",
           "title": {
            "standoff": 15
           },
           "zerolinecolor": "white",
           "zerolinewidth": 2
          }
         }
        }
       }
      }
     },
     "metadata": {}
    }
   ],
   "source": [
    "proportions = bem2.lambd_\n",
    "plot_binomial_mixture(bem2.p_, proportions=proportions, S=S)"
   ]
  },
  {
   "cell_type": "code",
   "execution_count": 13,
   "metadata": {},
   "outputs": [
    {
     "output_type": "execute_result",
     "data": {
      "text/plain": [
       "array([0.15462279, 0.28391218, 0.42125118, 0.58750466, 0.73681867,\n",
       "       0.88782851, 0.95125157])"
      ]
     },
     "metadata": {},
     "execution_count": 13
    }
   ],
   "source": [
    "bem2.p_"
   ]
  },
  {
   "cell_type": "code",
   "execution_count": 14,
   "metadata": {},
   "outputs": [
    {
     "output_type": "execute_result",
     "data": {
      "text/plain": [
       "array([0.15601864, 0.37454012, 0.59865848, 0.73199394, 0.95071431])"
      ]
     },
     "metadata": {},
     "execution_count": 14
    }
   ],
   "source": [
    "np.sort(p_values)"
   ]
  },
  {
   "cell_type": "code",
   "execution_count": 15,
   "metadata": {},
   "outputs": [],
   "source": [
    "df = pd.DataFrame(S, columns=[\"S\"])"
   ]
  },
  {
   "cell_type": "code",
   "execution_count": 16,
   "metadata": {},
   "outputs": [
    {
     "output_type": "execute_result",
     "data": {
      "text/plain": [
       "    S  true_labels  predicted_labels\n",
       "0  42            0                 2\n",
       "1  38            0                 2\n",
       "2  30            0                 1\n",
       "3  37            0                 2\n",
       "4  31            0                 1"
      ],
      "text/html": "<div>\n<style scoped>\n    .dataframe tbody tr th:only-of-type {\n        vertical-align: middle;\n    }\n\n    .dataframe tbody tr th {\n        vertical-align: top;\n    }\n\n    .dataframe thead th {\n        text-align: right;\n    }\n</style>\n<table border=\"1\" class=\"dataframe\">\n  <thead>\n    <tr style=\"text-align: right;\">\n      <th></th>\n      <th>S</th>\n      <th>true_labels</th>\n      <th>predicted_labels</th>\n    </tr>\n  </thead>\n  <tbody>\n    <tr>\n      <th>0</th>\n      <td>42</td>\n      <td>0</td>\n      <td>2</td>\n    </tr>\n    <tr>\n      <th>1</th>\n      <td>38</td>\n      <td>0</td>\n      <td>2</td>\n    </tr>\n    <tr>\n      <th>2</th>\n      <td>30</td>\n      <td>0</td>\n      <td>1</td>\n    </tr>\n    <tr>\n      <th>3</th>\n      <td>37</td>\n      <td>0</td>\n      <td>2</td>\n    </tr>\n    <tr>\n      <th>4</th>\n      <td>31</td>\n      <td>0</td>\n      <td>1</td>\n    </tr>\n  </tbody>\n</table>\n</div>"
     },
     "metadata": {},
     "execution_count": 16
    }
   ],
   "source": [
    "df[\"true_labels\"] = true_labels\n",
    "df[\"predicted_labels\"] = bem2.predict(S)\n",
    "df.head()"
   ]
  },
  {
   "cell_type": "code",
   "execution_count": 17,
   "metadata": {},
   "outputs": [
    {
     "output_type": "display_data",
     "data": {
      "application/vnd.plotly.v1+json": {
       "config": {
        "plotlyServerURL": "https://plot.ly"
       },
       "data": [
        {
         "alignmentgroup": "True",
         "bingroup": "x",
         "hovertemplate": "true_labels=0<br>S=%{x}<br>count=%{y}<extra></extra>",
         "legendgroup": "0",
         "marker": {
          "color": "#636efa",
          "opacity": 0.5
         },
         "name": "0",
         "nbinsx": 30,
         "offsetgroup": "0",
         "orientation": "v",
         "showlegend": true,
         "type": "histogram",
         "x": [
          42,
          38,
          30,
          37,
          31,
          41,
          31,
          46,
          44,
          40,
          24,
          43,
          42,
          37,
          31,
          46,
          39,
          29,
          46,
          40,
          40,
          42,
          35,
          43,
          46,
          45,
          31,
          39
         ],
         "xaxis": "x",
         "yaxis": "y"
        },
        {
         "alignmentgroup": "True",
         "bingroup": "x",
         "hovertemplate": "true_labels=1<br>S=%{x}<br>count=%{y}<extra></extra>",
         "legendgroup": "1",
         "marker": {
          "color": "#EF553B",
          "opacity": 0.5
         },
         "name": "1",
         "nbinsx": 30,
         "offsetgroup": "1",
         "orientation": "v",
         "showlegend": true,
         "type": "histogram",
         "x": [
          94,
          95,
          96,
          95,
          96,
          91,
          93,
          94,
          97,
          97,
          98,
          94,
          98,
          96,
          97,
          92,
          95,
          95,
          94,
          97,
          95,
          95,
          97,
          91,
          95,
          94,
          92,
          95,
          96,
          98,
          95,
          97
         ],
         "xaxis": "x",
         "yaxis": "y"
        },
        {
         "alignmentgroup": "True",
         "bingroup": "x",
         "hovertemplate": "true_labels=2<br>S=%{x}<br>count=%{y}<extra></extra>",
         "legendgroup": "2",
         "marker": {
          "color": "#00cc96",
          "opacity": 0.5
         },
         "name": "2",
         "nbinsx": 30,
         "offsetgroup": "2",
         "orientation": "v",
         "showlegend": true,
         "type": "histogram",
         "x": [
          74,
          68,
          75,
          78,
          75,
          67,
          76,
          72,
          87,
          75,
          76,
          78,
          73,
          73,
          71,
          76,
          76,
          77,
          77,
          73
         ],
         "xaxis": "x",
         "yaxis": "y"
        },
        {
         "alignmentgroup": "True",
         "bingroup": "x",
         "hovertemplate": "true_labels=3<br>S=%{x}<br>count=%{y}<extra></extra>",
         "legendgroup": "3",
         "marker": {
          "color": "#ab63fa",
          "opacity": 0.5
         },
         "name": "3",
         "nbinsx": 30,
         "offsetgroup": "3",
         "orientation": "v",
         "showlegend": true,
         "type": "histogram",
         "x": [
          52,
          57,
          66,
          63,
          52,
          58,
          62,
          55,
          61,
          55,
          54,
          49,
          60,
          58,
          65,
          65,
          59,
          71,
          51,
          61
         ],
         "xaxis": "x",
         "yaxis": "y"
        },
        {
         "alignmentgroup": "True",
         "bingroup": "x",
         "hovertemplate": "true_labels=4<br>S=%{x}<br>count=%{y}<extra></extra>",
         "legendgroup": "4",
         "marker": {
          "color": "#FFA15A",
          "opacity": 0.5
         },
         "name": "4",
         "nbinsx": 30,
         "offsetgroup": "4",
         "orientation": "v",
         "showlegend": true,
         "type": "histogram",
         "x": [
          23,
          13,
          14,
          15,
          15,
          25,
          12,
          8,
          15,
          12,
          14,
          18,
          18,
          14,
          16,
          16,
          17,
          13,
          16,
          23,
          15,
          20,
          15,
          14,
          17,
          17,
          20,
          13,
          15,
          16,
          18,
          10,
          25
         ],
         "xaxis": "x",
         "yaxis": "y"
        }
       ],
       "layout": {
        "barmode": "overlay",
        "legend": {
         "title": {
          "text": "true_labels"
         },
         "tracegroupgap": 0
        },
        "margin": {
         "t": 60
        },
        "template": {
         "data": {
          "bar": [
           {
            "error_x": {
             "color": "#2a3f5f"
            },
            "error_y": {
             "color": "#2a3f5f"
            },
            "marker": {
             "line": {
              "color": "#E5ECF6",
              "width": 0.5
             }
            },
            "type": "bar"
           }
          ],
          "barpolar": [
           {
            "marker": {
             "line": {
              "color": "#E5ECF6",
              "width": 0.5
             }
            },
            "type": "barpolar"
           }
          ],
          "carpet": [
           {
            "aaxis": {
             "endlinecolor": "#2a3f5f",
             "gridcolor": "white",
             "linecolor": "white",
             "minorgridcolor": "white",
             "startlinecolor": "#2a3f5f"
            },
            "baxis": {
             "endlinecolor": "#2a3f5f",
             "gridcolor": "white",
             "linecolor": "white",
             "minorgridcolor": "white",
             "startlinecolor": "#2a3f5f"
            },
            "type": "carpet"
           }
          ],
          "choropleth": [
           {
            "colorbar": {
             "outlinewidth": 0,
             "ticks": ""
            },
            "type": "choropleth"
           }
          ],
          "contour": [
           {
            "colorbar": {
             "outlinewidth": 0,
             "ticks": ""
            },
            "colorscale": [
             [
              0,
              "#0d0887"
             ],
             [
              0.1111111111111111,
              "#46039f"
             ],
             [
              0.2222222222222222,
              "#7201a8"
             ],
             [
              0.3333333333333333,
              "#9c179e"
             ],
             [
              0.4444444444444444,
              "#bd3786"
             ],
             [
              0.5555555555555556,
              "#d8576b"
             ],
             [
              0.6666666666666666,
              "#ed7953"
             ],
             [
              0.7777777777777778,
              "#fb9f3a"
             ],
             [
              0.8888888888888888,
              "#fdca26"
             ],
             [
              1,
              "#f0f921"
             ]
            ],
            "type": "contour"
           }
          ],
          "contourcarpet": [
           {
            "colorbar": {
             "outlinewidth": 0,
             "ticks": ""
            },
            "type": "contourcarpet"
           }
          ],
          "heatmap": [
           {
            "colorbar": {
             "outlinewidth": 0,
             "ticks": ""
            },
            "colorscale": [
             [
              0,
              "#0d0887"
             ],
             [
              0.1111111111111111,
              "#46039f"
             ],
             [
              0.2222222222222222,
              "#7201a8"
             ],
             [
              0.3333333333333333,
              "#9c179e"
             ],
             [
              0.4444444444444444,
              "#bd3786"
             ],
             [
              0.5555555555555556,
              "#d8576b"
             ],
             [
              0.6666666666666666,
              "#ed7953"
             ],
             [
              0.7777777777777778,
              "#fb9f3a"
             ],
             [
              0.8888888888888888,
              "#fdca26"
             ],
             [
              1,
              "#f0f921"
             ]
            ],
            "type": "heatmap"
           }
          ],
          "heatmapgl": [
           {
            "colorbar": {
             "outlinewidth": 0,
             "ticks": ""
            },
            "colorscale": [
             [
              0,
              "#0d0887"
             ],
             [
              0.1111111111111111,
              "#46039f"
             ],
             [
              0.2222222222222222,
              "#7201a8"
             ],
             [
              0.3333333333333333,
              "#9c179e"
             ],
             [
              0.4444444444444444,
              "#bd3786"
             ],
             [
              0.5555555555555556,
              "#d8576b"
             ],
             [
              0.6666666666666666,
              "#ed7953"
             ],
             [
              0.7777777777777778,
              "#fb9f3a"
             ],
             [
              0.8888888888888888,
              "#fdca26"
             ],
             [
              1,
              "#f0f921"
             ]
            ],
            "type": "heatmapgl"
           }
          ],
          "histogram": [
           {
            "marker": {
             "colorbar": {
              "outlinewidth": 0,
              "ticks": ""
             }
            },
            "type": "histogram"
           }
          ],
          "histogram2d": [
           {
            "colorbar": {
             "outlinewidth": 0,
             "ticks": ""
            },
            "colorscale": [
             [
              0,
              "#0d0887"
             ],
             [
              0.1111111111111111,
              "#46039f"
             ],
             [
              0.2222222222222222,
              "#7201a8"
             ],
             [
              0.3333333333333333,
              "#9c179e"
             ],
             [
              0.4444444444444444,
              "#bd3786"
             ],
             [
              0.5555555555555556,
              "#d8576b"
             ],
             [
              0.6666666666666666,
              "#ed7953"
             ],
             [
              0.7777777777777778,
              "#fb9f3a"
             ],
             [
              0.8888888888888888,
              "#fdca26"
             ],
             [
              1,
              "#f0f921"
             ]
            ],
            "type": "histogram2d"
           }
          ],
          "histogram2dcontour": [
           {
            "colorbar": {
             "outlinewidth": 0,
             "ticks": ""
            },
            "colorscale": [
             [
              0,
              "#0d0887"
             ],
             [
              0.1111111111111111,
              "#46039f"
             ],
             [
              0.2222222222222222,
              "#7201a8"
             ],
             [
              0.3333333333333333,
              "#9c179e"
             ],
             [
              0.4444444444444444,
              "#bd3786"
             ],
             [
              0.5555555555555556,
              "#d8576b"
             ],
             [
              0.6666666666666666,
              "#ed7953"
             ],
             [
              0.7777777777777778,
              "#fb9f3a"
             ],
             [
              0.8888888888888888,
              "#fdca26"
             ],
             [
              1,
              "#f0f921"
             ]
            ],
            "type": "histogram2dcontour"
           }
          ],
          "mesh3d": [
           {
            "colorbar": {
             "outlinewidth": 0,
             "ticks": ""
            },
            "type": "mesh3d"
           }
          ],
          "parcoords": [
           {
            "line": {
             "colorbar": {
              "outlinewidth": 0,
              "ticks": ""
             }
            },
            "type": "parcoords"
           }
          ],
          "pie": [
           {
            "automargin": true,
            "type": "pie"
           }
          ],
          "scatter": [
           {
            "marker": {
             "colorbar": {
              "outlinewidth": 0,
              "ticks": ""
             }
            },
            "type": "scatter"
           }
          ],
          "scatter3d": [
           {
            "line": {
             "colorbar": {
              "outlinewidth": 0,
              "ticks": ""
             }
            },
            "marker": {
             "colorbar": {
              "outlinewidth": 0,
              "ticks": ""
             }
            },
            "type": "scatter3d"
           }
          ],
          "scattercarpet": [
           {
            "marker": {
             "colorbar": {
              "outlinewidth": 0,
              "ticks": ""
             }
            },
            "type": "scattercarpet"
           }
          ],
          "scattergeo": [
           {
            "marker": {
             "colorbar": {
              "outlinewidth": 0,
              "ticks": ""
             }
            },
            "type": "scattergeo"
           }
          ],
          "scattergl": [
           {
            "marker": {
             "colorbar": {
              "outlinewidth": 0,
              "ticks": ""
             }
            },
            "type": "scattergl"
           }
          ],
          "scattermapbox": [
           {
            "marker": {
             "colorbar": {
              "outlinewidth": 0,
              "ticks": ""
             }
            },
            "type": "scattermapbox"
           }
          ],
          "scatterpolar": [
           {
            "marker": {
             "colorbar": {
              "outlinewidth": 0,
              "ticks": ""
             }
            },
            "type": "scatterpolar"
           }
          ],
          "scatterpolargl": [
           {
            "marker": {
             "colorbar": {
              "outlinewidth": 0,
              "ticks": ""
             }
            },
            "type": "scatterpolargl"
           }
          ],
          "scatterternary": [
           {
            "marker": {
             "colorbar": {
              "outlinewidth": 0,
              "ticks": ""
             }
            },
            "type": "scatterternary"
           }
          ],
          "surface": [
           {
            "colorbar": {
             "outlinewidth": 0,
             "ticks": ""
            },
            "colorscale": [
             [
              0,
              "#0d0887"
             ],
             [
              0.1111111111111111,
              "#46039f"
             ],
             [
              0.2222222222222222,
              "#7201a8"
             ],
             [
              0.3333333333333333,
              "#9c179e"
             ],
             [
              0.4444444444444444,
              "#bd3786"
             ],
             [
              0.5555555555555556,
              "#d8576b"
             ],
             [
              0.6666666666666666,
              "#ed7953"
             ],
             [
              0.7777777777777778,
              "#fb9f3a"
             ],
             [
              0.8888888888888888,
              "#fdca26"
             ],
             [
              1,
              "#f0f921"
             ]
            ],
            "type": "surface"
           }
          ],
          "table": [
           {
            "cells": {
             "fill": {
              "color": "#EBF0F8"
             },
             "line": {
              "color": "white"
             }
            },
            "header": {
             "fill": {
              "color": "#C8D4E3"
             },
             "line": {
              "color": "white"
             }
            },
            "type": "table"
           }
          ]
         },
         "layout": {
          "annotationdefaults": {
           "arrowcolor": "#2a3f5f",
           "arrowhead": 0,
           "arrowwidth": 1
          },
          "coloraxis": {
           "colorbar": {
            "outlinewidth": 0,
            "ticks": ""
           }
          },
          "colorscale": {
           "diverging": [
            [
             0,
             "#8e0152"
            ],
            [
             0.1,
             "#c51b7d"
            ],
            [
             0.2,
             "#de77ae"
            ],
            [
             0.3,
             "#f1b6da"
            ],
            [
             0.4,
             "#fde0ef"
            ],
            [
             0.5,
             "#f7f7f7"
            ],
            [
             0.6,
             "#e6f5d0"
            ],
            [
             0.7,
             "#b8e186"
            ],
            [
             0.8,
             "#7fbc41"
            ],
            [
             0.9,
             "#4d9221"
            ],
            [
             1,
             "#276419"
            ]
           ],
           "sequential": [
            [
             0,
             "#0d0887"
            ],
            [
             0.1111111111111111,
             "#46039f"
            ],
            [
             0.2222222222222222,
             "#7201a8"
            ],
            [
             0.3333333333333333,
             "#9c179e"
            ],
            [
             0.4444444444444444,
             "#bd3786"
            ],
            [
             0.5555555555555556,
             "#d8576b"
            ],
            [
             0.6666666666666666,
             "#ed7953"
            ],
            [
             0.7777777777777778,
             "#fb9f3a"
            ],
            [
             0.8888888888888888,
             "#fdca26"
            ],
            [
             1,
             "#f0f921"
            ]
           ],
           "sequentialminus": [
            [
             0,
             "#0d0887"
            ],
            [
             0.1111111111111111,
             "#46039f"
            ],
            [
             0.2222222222222222,
             "#7201a8"
            ],
            [
             0.3333333333333333,
             "#9c179e"
            ],
            [
             0.4444444444444444,
             "#bd3786"
            ],
            [
             0.5555555555555556,
             "#d8576b"
            ],
            [
             0.6666666666666666,
             "#ed7953"
            ],
            [
             0.7777777777777778,
             "#fb9f3a"
            ],
            [
             0.8888888888888888,
             "#fdca26"
            ],
            [
             1,
             "#f0f921"
            ]
           ]
          },
          "colorway": [
           "#636efa",
           "#EF553B",
           "#00cc96",
           "#ab63fa",
           "#FFA15A",
           "#19d3f3",
           "#FF6692",
           "#B6E880",
           "#FF97FF",
           "#FECB52"
          ],
          "font": {
           "color": "#2a3f5f"
          },
          "geo": {
           "bgcolor": "white",
           "lakecolor": "white",
           "landcolor": "#E5ECF6",
           "showlakes": true,
           "showland": true,
           "subunitcolor": "white"
          },
          "hoverlabel": {
           "align": "left"
          },
          "hovermode": "closest",
          "mapbox": {
           "style": "light"
          },
          "paper_bgcolor": "white",
          "plot_bgcolor": "#E5ECF6",
          "polar": {
           "angularaxis": {
            "gridcolor": "white",
            "linecolor": "white",
            "ticks": ""
           },
           "bgcolor": "#E5ECF6",
           "radialaxis": {
            "gridcolor": "white",
            "linecolor": "white",
            "ticks": ""
           }
          },
          "scene": {
           "xaxis": {
            "backgroundcolor": "#E5ECF6",
            "gridcolor": "white",
            "gridwidth": 2,
            "linecolor": "white",
            "showbackground": true,
            "ticks": "",
            "zerolinecolor": "white"
           },
           "yaxis": {
            "backgroundcolor": "#E5ECF6",
            "gridcolor": "white",
            "gridwidth": 2,
            "linecolor": "white",
            "showbackground": true,
            "ticks": "",
            "zerolinecolor": "white"
           },
           "zaxis": {
            "backgroundcolor": "#E5ECF6",
            "gridcolor": "white",
            "gridwidth": 2,
            "linecolor": "white",
            "showbackground": true,
            "ticks": "",
            "zerolinecolor": "white"
           }
          },
          "shapedefaults": {
           "line": {
            "color": "#2a3f5f"
           }
          },
          "ternary": {
           "aaxis": {
            "gridcolor": "white",
            "linecolor": "white",
            "ticks": ""
           },
           "baxis": {
            "gridcolor": "white",
            "linecolor": "white",
            "ticks": ""
           },
           "bgcolor": "#E5ECF6",
           "caxis": {
            "gridcolor": "white",
            "linecolor": "white",
            "ticks": ""
           }
          },
          "title": {
           "x": 0.05
          },
          "xaxis": {
           "automargin": true,
           "gridcolor": "white",
           "linecolor": "white",
           "ticks": "",
           "title": {
            "standoff": 15
           },
           "zerolinecolor": "white",
           "zerolinewidth": 2
          },
          "yaxis": {
           "automargin": true,
           "gridcolor": "white",
           "linecolor": "white",
           "ticks": "",
           "title": {
            "standoff": 15
           },
           "zerolinecolor": "white",
           "zerolinewidth": 2
          }
         }
        },
        "xaxis": {
         "anchor": "y",
         "domain": [
          0,
          1
         ],
         "title": {
          "text": "S"
         }
        },
        "yaxis": {
         "anchor": "x",
         "domain": [
          0,
          1
         ],
         "title": {
          "text": "count"
         }
        }
       }
      }
     },
     "metadata": {}
    }
   ],
   "source": [
    "px.histogram(df, x=\"S\", color=\"true_labels\", barmode=\"overlay\", nbins=30)"
   ]
  },
  {
   "cell_type": "code",
   "execution_count": 18,
   "metadata": {},
   "outputs": [
    {
     "output_type": "display_data",
     "data": {
      "application/vnd.plotly.v1+json": {
       "config": {
        "plotlyServerURL": "https://plot.ly"
       },
       "data": [
        {
         "alignmentgroup": "True",
         "bingroup": "x",
         "hovertemplate": "predicted_labels=2<br>S=%{x}<br>count=%{y}<extra></extra>",
         "legendgroup": "2",
         "marker": {
          "color": "#636efa",
          "opacity": 0.5
         },
         "name": "2",
         "nbinsx": 30,
         "offsetgroup": "2",
         "orientation": "v",
         "showlegend": true,
         "type": "histogram",
         "x": [
          42,
          38,
          37,
          41,
          46,
          44,
          40,
          43,
          42,
          37,
          46,
          39,
          46,
          40,
          40,
          42,
          35,
          43,
          46,
          45,
          39,
          49
         ],
         "xaxis": "x",
         "yaxis": "y"
        },
        {
         "alignmentgroup": "True",
         "bingroup": "x",
         "hovertemplate": "predicted_labels=1<br>S=%{x}<br>count=%{y}<extra></extra>",
         "legendgroup": "1",
         "marker": {
          "color": "#EF553B",
          "opacity": 0.5
         },
         "name": "1",
         "nbinsx": 30,
         "offsetgroup": "1",
         "orientation": "v",
         "showlegend": true,
         "type": "histogram",
         "x": [
          30,
          31,
          31,
          24,
          31,
          29,
          31,
          23,
          25,
          23,
          25
         ],
         "xaxis": "x",
         "yaxis": "y"
        },
        {
         "alignmentgroup": "True",
         "bingroup": "x",
         "hovertemplate": "predicted_labels=6<br>S=%{x}<br>count=%{y}<extra></extra>",
         "legendgroup": "6",
         "marker": {
          "color": "#00cc96",
          "opacity": 0.5
         },
         "name": "6",
         "nbinsx": 30,
         "offsetgroup": "6",
         "orientation": "v",
         "showlegend": true,
         "type": "histogram",
         "x": [
          94,
          95,
          96,
          95,
          96,
          91,
          93,
          94,
          97,
          97,
          98,
          94,
          98,
          96,
          97,
          92,
          95,
          95,
          94,
          97,
          95,
          95,
          97,
          91,
          95,
          94,
          92,
          95,
          96,
          98,
          95,
          97
         ],
         "xaxis": "x",
         "yaxis": "y"
        },
        {
         "alignmentgroup": "True",
         "bingroup": "x",
         "hovertemplate": "predicted_labels=4<br>S=%{x}<br>count=%{y}<extra></extra>",
         "legendgroup": "4",
         "marker": {
          "color": "#ab63fa",
          "opacity": 0.5
         },
         "name": "4",
         "nbinsx": 30,
         "offsetgroup": "4",
         "orientation": "v",
         "showlegend": true,
         "type": "histogram",
         "x": [
          74,
          68,
          75,
          78,
          75,
          67,
          76,
          72,
          75,
          76,
          78,
          73,
          73,
          71,
          76,
          76,
          77,
          77,
          73,
          71
         ],
         "xaxis": "x",
         "yaxis": "y"
        },
        {
         "alignmentgroup": "True",
         "bingroup": "x",
         "hovertemplate": "predicted_labels=5<br>S=%{x}<br>count=%{y}<extra></extra>",
         "legendgroup": "5",
         "marker": {
          "color": "#FFA15A",
          "opacity": 0.5
         },
         "name": "5",
         "nbinsx": 30,
         "offsetgroup": "5",
         "orientation": "v",
         "showlegend": true,
         "type": "histogram",
         "x": [
          87
         ],
         "xaxis": "x",
         "yaxis": "y"
        },
        {
         "alignmentgroup": "True",
         "bingroup": "x",
         "hovertemplate": "predicted_labels=3<br>S=%{x}<br>count=%{y}<extra></extra>",
         "legendgroup": "3",
         "marker": {
          "color": "#19d3f3",
          "opacity": 0.5
         },
         "name": "3",
         "nbinsx": 30,
         "offsetgroup": "3",
         "orientation": "v",
         "showlegend": true,
         "type": "histogram",
         "x": [
          52,
          57,
          66,
          63,
          52,
          58,
          62,
          55,
          61,
          55,
          54,
          60,
          58,
          65,
          65,
          59,
          51,
          61
         ],
         "xaxis": "x",
         "yaxis": "y"
        },
        {
         "alignmentgroup": "True",
         "bingroup": "x",
         "hovertemplate": "predicted_labels=0<br>S=%{x}<br>count=%{y}<extra></extra>",
         "legendgroup": "0",
         "marker": {
          "color": "#FF6692",
          "opacity": 0.5
         },
         "name": "0",
         "nbinsx": 30,
         "offsetgroup": "0",
         "orientation": "v",
         "showlegend": true,
         "type": "histogram",
         "x": [
          13,
          14,
          15,
          15,
          12,
          8,
          15,
          12,
          14,
          18,
          18,
          14,
          16,
          16,
          17,
          13,
          16,
          15,
          20,
          15,
          14,
          17,
          17,
          20,
          13,
          15,
          16,
          18,
          10
         ],
         "xaxis": "x",
         "yaxis": "y"
        }
       ],
       "layout": {
        "barmode": "overlay",
        "legend": {
         "title": {
          "text": "predicted_labels"
         },
         "tracegroupgap": 0
        },
        "margin": {
         "t": 60
        },
        "template": {
         "data": {
          "bar": [
           {
            "error_x": {
             "color": "#2a3f5f"
            },
            "error_y": {
             "color": "#2a3f5f"
            },
            "marker": {
             "line": {
              "color": "#E5ECF6",
              "width": 0.5
             }
            },
            "type": "bar"
           }
          ],
          "barpolar": [
           {
            "marker": {
             "line": {
              "color": "#E5ECF6",
              "width": 0.5
             }
            },
            "type": "barpolar"
           }
          ],
          "carpet": [
           {
            "aaxis": {
             "endlinecolor": "#2a3f5f",
             "gridcolor": "white",
             "linecolor": "white",
             "minorgridcolor": "white",
             "startlinecolor": "#2a3f5f"
            },
            "baxis": {
             "endlinecolor": "#2a3f5f",
             "gridcolor": "white",
             "linecolor": "white",
             "minorgridcolor": "white",
             "startlinecolor": "#2a3f5f"
            },
            "type": "carpet"
           }
          ],
          "choropleth": [
           {
            "colorbar": {
             "outlinewidth": 0,
             "ticks": ""
            },
            "type": "choropleth"
           }
          ],
          "contour": [
           {
            "colorbar": {
             "outlinewidth": 0,
             "ticks": ""
            },
            "colorscale": [
             [
              0,
              "#0d0887"
             ],
             [
              0.1111111111111111,
              "#46039f"
             ],
             [
              0.2222222222222222,
              "#7201a8"
             ],
             [
              0.3333333333333333,
              "#9c179e"
             ],
             [
              0.4444444444444444,
              "#bd3786"
             ],
             [
              0.5555555555555556,
              "#d8576b"
             ],
             [
              0.6666666666666666,
              "#ed7953"
             ],
             [
              0.7777777777777778,
              "#fb9f3a"
             ],
             [
              0.8888888888888888,
              "#fdca26"
             ],
             [
              1,
              "#f0f921"
             ]
            ],
            "type": "contour"
           }
          ],
          "contourcarpet": [
           {
            "colorbar": {
             "outlinewidth": 0,
             "ticks": ""
            },
            "type": "contourcarpet"
           }
          ],
          "heatmap": [
           {
            "colorbar": {
             "outlinewidth": 0,
             "ticks": ""
            },
            "colorscale": [
             [
              0,
              "#0d0887"
             ],
             [
              0.1111111111111111,
              "#46039f"
             ],
             [
              0.2222222222222222,
              "#7201a8"
             ],
             [
              0.3333333333333333,
              "#9c179e"
             ],
             [
              0.4444444444444444,
              "#bd3786"
             ],
             [
              0.5555555555555556,
              "#d8576b"
             ],
             [
              0.6666666666666666,
              "#ed7953"
             ],
             [
              0.7777777777777778,
              "#fb9f3a"
             ],
             [
              0.8888888888888888,
              "#fdca26"
             ],
             [
              1,
              "#f0f921"
             ]
            ],
            "type": "heatmap"
           }
          ],
          "heatmapgl": [
           {
            "colorbar": {
             "outlinewidth": 0,
             "ticks": ""
            },
            "colorscale": [
             [
              0,
              "#0d0887"
             ],
             [
              0.1111111111111111,
              "#46039f"
             ],
             [
              0.2222222222222222,
              "#7201a8"
             ],
             [
              0.3333333333333333,
              "#9c179e"
             ],
             [
              0.4444444444444444,
              "#bd3786"
             ],
             [
              0.5555555555555556,
              "#d8576b"
             ],
             [
              0.6666666666666666,
              "#ed7953"
             ],
             [
              0.7777777777777778,
              "#fb9f3a"
             ],
             [
              0.8888888888888888,
              "#fdca26"
             ],
             [
              1,
              "#f0f921"
             ]
            ],
            "type": "heatmapgl"
           }
          ],
          "histogram": [
           {
            "marker": {
             "colorbar": {
              "outlinewidth": 0,
              "ticks": ""
             }
            },
            "type": "histogram"
           }
          ],
          "histogram2d": [
           {
            "colorbar": {
             "outlinewidth": 0,
             "ticks": ""
            },
            "colorscale": [
             [
              0,
              "#0d0887"
             ],
             [
              0.1111111111111111,
              "#46039f"
             ],
             [
              0.2222222222222222,
              "#7201a8"
             ],
             [
              0.3333333333333333,
              "#9c179e"
             ],
             [
              0.4444444444444444,
              "#bd3786"
             ],
             [
              0.5555555555555556,
              "#d8576b"
             ],
             [
              0.6666666666666666,
              "#ed7953"
             ],
             [
              0.7777777777777778,
              "#fb9f3a"
             ],
             [
              0.8888888888888888,
              "#fdca26"
             ],
             [
              1,
              "#f0f921"
             ]
            ],
            "type": "histogram2d"
           }
          ],
          "histogram2dcontour": [
           {
            "colorbar": {
             "outlinewidth": 0,
             "ticks": ""
            },
            "colorscale": [
             [
              0,
              "#0d0887"
             ],
             [
              0.1111111111111111,
              "#46039f"
             ],
             [
              0.2222222222222222,
              "#7201a8"
             ],
             [
              0.3333333333333333,
              "#9c179e"
             ],
             [
              0.4444444444444444,
              "#bd3786"
             ],
             [
              0.5555555555555556,
              "#d8576b"
             ],
             [
              0.6666666666666666,
              "#ed7953"
             ],
             [
              0.7777777777777778,
              "#fb9f3a"
             ],
             [
              0.8888888888888888,
              "#fdca26"
             ],
             [
              1,
              "#f0f921"
             ]
            ],
            "type": "histogram2dcontour"
           }
          ],
          "mesh3d": [
           {
            "colorbar": {
             "outlinewidth": 0,
             "ticks": ""
            },
            "type": "mesh3d"
           }
          ],
          "parcoords": [
           {
            "line": {
             "colorbar": {
              "outlinewidth": 0,
              "ticks": ""
             }
            },
            "type": "parcoords"
           }
          ],
          "pie": [
           {
            "automargin": true,
            "type": "pie"
           }
          ],
          "scatter": [
           {
            "marker": {
             "colorbar": {
              "outlinewidth": 0,
              "ticks": ""
             }
            },
            "type": "scatter"
           }
          ],
          "scatter3d": [
           {
            "line": {
             "colorbar": {
              "outlinewidth": 0,
              "ticks": ""
             }
            },
            "marker": {
             "colorbar": {
              "outlinewidth": 0,
              "ticks": ""
             }
            },
            "type": "scatter3d"
           }
          ],
          "scattercarpet": [
           {
            "marker": {
             "colorbar": {
              "outlinewidth": 0,
              "ticks": ""
             }
            },
            "type": "scattercarpet"
           }
          ],
          "scattergeo": [
           {
            "marker": {
             "colorbar": {
              "outlinewidth": 0,
              "ticks": ""
             }
            },
            "type": "scattergeo"
           }
          ],
          "scattergl": [
           {
            "marker": {
             "colorbar": {
              "outlinewidth": 0,
              "ticks": ""
             }
            },
            "type": "scattergl"
           }
          ],
          "scattermapbox": [
           {
            "marker": {
             "colorbar": {
              "outlinewidth": 0,
              "ticks": ""
             }
            },
            "type": "scattermapbox"
           }
          ],
          "scatterpolar": [
           {
            "marker": {
             "colorbar": {
              "outlinewidth": 0,
              "ticks": ""
             }
            },
            "type": "scatterpolar"
           }
          ],
          "scatterpolargl": [
           {
            "marker": {
             "colorbar": {
              "outlinewidth": 0,
              "ticks": ""
             }
            },
            "type": "scatterpolargl"
           }
          ],
          "scatterternary": [
           {
            "marker": {
             "colorbar": {
              "outlinewidth": 0,
              "ticks": ""
             }
            },
            "type": "scatterternary"
           }
          ],
          "surface": [
           {
            "colorbar": {
             "outlinewidth": 0,
             "ticks": ""
            },
            "colorscale": [
             [
              0,
              "#0d0887"
             ],
             [
              0.1111111111111111,
              "#46039f"
             ],
             [
              0.2222222222222222,
              "#7201a8"
             ],
             [
              0.3333333333333333,
              "#9c179e"
             ],
             [
              0.4444444444444444,
              "#bd3786"
             ],
             [
              0.5555555555555556,
              "#d8576b"
             ],
             [
              0.6666666666666666,
              "#ed7953"
             ],
             [
              0.7777777777777778,
              "#fb9f3a"
             ],
             [
              0.8888888888888888,
              "#fdca26"
             ],
             [
              1,
              "#f0f921"
             ]
            ],
            "type": "surface"
           }
          ],
          "table": [
           {
            "cells": {
             "fill": {
              "color": "#EBF0F8"
             },
             "line": {
              "color": "white"
             }
            },
            "header": {
             "fill": {
              "color": "#C8D4E3"
             },
             "line": {
              "color": "white"
             }
            },
            "type": "table"
           }
          ]
         },
         "layout": {
          "annotationdefaults": {
           "arrowcolor": "#2a3f5f",
           "arrowhead": 0,
           "arrowwidth": 1
          },
          "coloraxis": {
           "colorbar": {
            "outlinewidth": 0,
            "ticks": ""
           }
          },
          "colorscale": {
           "diverging": [
            [
             0,
             "#8e0152"
            ],
            [
             0.1,
             "#c51b7d"
            ],
            [
             0.2,
             "#de77ae"
            ],
            [
             0.3,
             "#f1b6da"
            ],
            [
             0.4,
             "#fde0ef"
            ],
            [
             0.5,
             "#f7f7f7"
            ],
            [
             0.6,
             "#e6f5d0"
            ],
            [
             0.7,
             "#b8e186"
            ],
            [
             0.8,
             "#7fbc41"
            ],
            [
             0.9,
             "#4d9221"
            ],
            [
             1,
             "#276419"
            ]
           ],
           "sequential": [
            [
             0,
             "#0d0887"
            ],
            [
             0.1111111111111111,
             "#46039f"
            ],
            [
             0.2222222222222222,
             "#7201a8"
            ],
            [
             0.3333333333333333,
             "#9c179e"
            ],
            [
             0.4444444444444444,
             "#bd3786"
            ],
            [
             0.5555555555555556,
             "#d8576b"
            ],
            [
             0.6666666666666666,
             "#ed7953"
            ],
            [
             0.7777777777777778,
             "#fb9f3a"
            ],
            [
             0.8888888888888888,
             "#fdca26"
            ],
            [
             1,
             "#f0f921"
            ]
           ],
           "sequentialminus": [
            [
             0,
             "#0d0887"
            ],
            [
             0.1111111111111111,
             "#46039f"
            ],
            [
             0.2222222222222222,
             "#7201a8"
            ],
            [
             0.3333333333333333,
             "#9c179e"
            ],
            [
             0.4444444444444444,
             "#bd3786"
            ],
            [
             0.5555555555555556,
             "#d8576b"
            ],
            [
             0.6666666666666666,
             "#ed7953"
            ],
            [
             0.7777777777777778,
             "#fb9f3a"
            ],
            [
             0.8888888888888888,
             "#fdca26"
            ],
            [
             1,
             "#f0f921"
            ]
           ]
          },
          "colorway": [
           "#636efa",
           "#EF553B",
           "#00cc96",
           "#ab63fa",
           "#FFA15A",
           "#19d3f3",
           "#FF6692",
           "#B6E880",
           "#FF97FF",
           "#FECB52"
          ],
          "font": {
           "color": "#2a3f5f"
          },
          "geo": {
           "bgcolor": "white",
           "lakecolor": "white",
           "landcolor": "#E5ECF6",
           "showlakes": true,
           "showland": true,
           "subunitcolor": "white"
          },
          "hoverlabel": {
           "align": "left"
          },
          "hovermode": "closest",
          "mapbox": {
           "style": "light"
          },
          "paper_bgcolor": "white",
          "plot_bgcolor": "#E5ECF6",
          "polar": {
           "angularaxis": {
            "gridcolor": "white",
            "linecolor": "white",
            "ticks": ""
           },
           "bgcolor": "#E5ECF6",
           "radialaxis": {
            "gridcolor": "white",
            "linecolor": "white",
            "ticks": ""
           }
          },
          "scene": {
           "xaxis": {
            "backgroundcolor": "#E5ECF6",
            "gridcolor": "white",
            "gridwidth": 2,
            "linecolor": "white",
            "showbackground": true,
            "ticks": "",
            "zerolinecolor": "white"
           },
           "yaxis": {
            "backgroundcolor": "#E5ECF6",
            "gridcolor": "white",
            "gridwidth": 2,
            "linecolor": "white",
            "showbackground": true,
            "ticks": "",
            "zerolinecolor": "white"
           },
           "zaxis": {
            "backgroundcolor": "#E5ECF6",
            "gridcolor": "white",
            "gridwidth": 2,
            "linecolor": "white",
            "showbackground": true,
            "ticks": "",
            "zerolinecolor": "white"
           }
          },
          "shapedefaults": {
           "line": {
            "color": "#2a3f5f"
           }
          },
          "ternary": {
           "aaxis": {
            "gridcolor": "white",
            "linecolor": "white",
            "ticks": ""
           },
           "baxis": {
            "gridcolor": "white",
            "linecolor": "white",
            "ticks": ""
           },
           "bgcolor": "#E5ECF6",
           "caxis": {
            "gridcolor": "white",
            "linecolor": "white",
            "ticks": ""
           }
          },
          "title": {
           "x": 0.05
          },
          "xaxis": {
           "automargin": true,
           "gridcolor": "white",
           "linecolor": "white",
           "ticks": "",
           "title": {
            "standoff": 15
           },
           "zerolinecolor": "white",
           "zerolinewidth": 2
          },
          "yaxis": {
           "automargin": true,
           "gridcolor": "white",
           "linecolor": "white",
           "ticks": "",
           "title": {
            "standoff": 15
           },
           "zerolinecolor": "white",
           "zerolinewidth": 2
          }
         }
        },
        "xaxis": {
         "anchor": "y",
         "domain": [
          0,
          1
         ],
         "title": {
          "text": "S"
         }
        },
        "yaxis": {
         "anchor": "x",
         "domain": [
          0,
          1
         ],
         "title": {
          "text": "count"
         }
        }
       }
      }
     },
     "metadata": {}
    }
   ],
   "source": [
    "px.histogram(df, x=\"S\", color=\"predicted_labels\", barmode=\"overlay\", nbins=30)"
   ]
  },
  {
   "cell_type": "code",
   "execution_count": null,
   "metadata": {},
   "outputs": [],
   "source": []
  }
 ]
}